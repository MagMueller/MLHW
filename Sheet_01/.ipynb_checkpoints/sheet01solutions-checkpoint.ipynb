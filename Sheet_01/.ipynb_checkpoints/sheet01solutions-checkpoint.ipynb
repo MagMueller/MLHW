{
 "cells": [
  {
   "cell_type": "markdown",
   "metadata": {},
   "source": [
    "Osnabrück University - Machine Learning (Summer Term 2017) - Prof. Dr.-Ing. G. Heidemann, Ulf Krumnack"
   ]
  },
  {
   "cell_type": "markdown",
   "metadata": {},
   "source": [
    "# Exercise Sheet 01: Concept Learning"
   ]
  },
  {
   "cell_type": "markdown",
   "metadata": {},
   "source": [
    "￼This week's sheet should be solved and handed in before the end of **Sunday, April 23, 2017**. If you need help (and Google and other resources were not enough), feel free to contact your groups' designated tutor or whomever of us you run into first. Please upload your results to your group's Stud.IP folder."
   ]
  },
  {
   "cell_type": "markdown",
   "metadata": {},
   "source": [
    "## Introduction\n",
    "\n",
    "This is the first exercise sheet. The homework sheets will usually be available at the beginning of the week and are supposed to be solved in groups of three. They have to be handed in before Monday morning of the following week. The exercises are then presented to your tutor in a small feedback session. To acquire the admission for the final exam, you will have to pass $N-2$ of the weekly provided exercise sheets.\n",
    "\n",
    "Sign up for a group on Stud.IP (See `Participants` -> `Functions/Groups`). The times mentioned there are the times for the feedback session of your group. If none of them fits, send any of the tutors an e-mail so we can try to arrange something.\n",
    "\n",
    "Your group will have a group folder in Stud.IP under `Documents`. Upload your solutions there to hand them in.\n",
    "\n",
    "All exercise sheets will use [Jupyter Notebooks](http://jupyter-notebook.readthedocs.org/en/latest/notebook.html). To be able to run these on your system, you will need to install Python and a few packages. We suggest the newest version of Python 3 and installing the conda environment as explained in the practice session."
   ]
  },
  {
   "cell_type": "markdown",
   "metadata": {},
   "source": [
    "## Assignment 1: Candidate Elimination (by Hand) [6 Points]\n",
    "\n",
    "Candidate Elimination is a learning algorithm that, in each step, tries to generate a description which is consistent with all previously observed examples in a training set. That description could hypothetically then be used to classify examples outside the training set.\n",
    "\n",
    "Consider the following situation:\n",
    "\n",
    "Earl and Fran have made it their mission to visit as many amusement parks as possible in the coming summer term. However, to maximize their enjoyment and not have any unnecessary arguments break out, they make a list of previous park visits and if they would go there again, to have a few criteria to decide if a park is worth their time.\n",
    "\n",
    "This is the set of attributes along with their possible values Earl and Fran came up with:\n",
    "\n",
    "| Attribute           | driving distance | ticket price      | rollercoasters | dinosaurs |\n",
    "|---------------------|------------------|-------------------|----------------|-----------|\n",
    "| **Possible Values** | short / far      | cheap / expensive | many / none    | yes / no  |\n",
    "\n",
    "This is Earl and Fran's accumulated data from previous visits. The list will allow you to come to a learning decision which properties have to be fulfilled such that the two will enjoy a visit to an amusement park.\n",
    "\n",
    "| Sample No. | driving distance | ticket price | rollercoasters | dinosaurs | go again? |\n",
    "|------------|------------------|--------------|----------------|-----------|-----------|\n",
    "| 1          | far              | cheap        | many           | no        | yes       |\n",
    "| 2          | short            | expensive    | many           | no        | yes       |\n",
    "| 3          | far              | expensive    | none           | yes       | no        |\n",
    "| 4          | short            | cheap        | none           | yes       | no        |\n",
    "| 5          | short            | cheap        | many           | yes       | yes       |"
   ]
  },
  {
   "cell_type": "markdown",
   "metadata": {},
   "source": [
    "### a)\n",
    "\n",
    "Apply Candidate Elimination to the samples 1-5 below and provide the version space boundaries $S_n$ and $G_n$ after each new training sample.  "
   ]
  },
  {
   "cell_type": "markdown",
   "metadata": {
    "solution": true
   },
   "source": [
    "$G_0 = \\{<?, ?, ?, ?>\\} \\quad S_0 = \\{<\\emptyset, \\emptyset, \\emptyset, \\emptyset>\\}$\n",
    "\n",
    "Insert sample 1: `(far, cheap, many, no) = yes`\n",
    "\n",
    "$G_1 = \\{<?, ?, ?, ?>\\} \\quad S_1 = \\{<far, cheap, many, no>\\}$\n",
    "\n",
    "Insert sample 2: `(short, expensive, many, no) = yes`\n",
    "\n",
    "$G_2 = \\{<?, ?, ?, ?>\\} \\quad S_2 = \\{<?, ?, many, no>\\}$\n",
    "\n",
    "Insert sample 3: `(far, expensive, none, yes) = no`\n",
    "\n",
    "$G_3 = \\{<?, ?, many, ?>, <?, ?, ?, no>\\} \\quad S_3 = \\{<?, ?, many, no>\\}$\n",
    "\n",
    "Insert sample 4: `(short, cheap, none, yes) = no`\n",
    "\n",
    "$G_4 = \\{<?, ?, many, ?>, <?, ?, ?, no>\\} \\quad S_4 = \\{<?, ?, many, no>\\}$\n",
    "\n",
    "Insert sample 5: `(short, cheap, many, yes) = no`\n",
    "\n",
    "$G_5 = \\{<?, ?, many, ?>\\} \\quad S_5 = \\{<?, ?, many, ?>\\}$"
   ]
  },
  {
   "cell_type": "markdown",
   "metadata": {},
   "source": [
    "### b)\n",
    "\n",
    "Provide the complete version space bounded by $S_2$ and $G_2$."
   ]
  },
  {
   "cell_type": "markdown",
   "metadata": {
    "solution": true
   },
   "source": [
    "$\\quad S_2 = \\{<?, ?, many, no>\\}$\n",
    "\n",
    "$<?, ?, many, ?> \\quad <?, ?, ?, no>$\n",
    "\n",
    "$\\quad \\quad G_2 = \\{<?, ?, ?, ?>\\}$\n",
    "  \n",
    "\n",
    "The version space is made up of all four sets, including the boundaries. See ML-02 slide 18 and 27. The complete version space therefore is the following set:\n",
    "\n",
    "VS = $\\{<?, ?, many, no>, <?, ?, many, ?>, <?, ?, ?, no>, <?, ?, ?, ?>\\}$\n"
   ]
  },
  {
   "cell_type": "markdown",
   "metadata": {},
   "source": [
    "### c) \n",
    "\n",
    "To what kind of amusement park should Earl and Fran go?"
   ]
  },
  {
   "cell_type": "markdown",
   "metadata": {
    "solution": true
   },
   "source": [
    "Earl and Fran should choose amusement parks with rollercoasters."
   ]
  },
  {
   "cell_type": "markdown",
   "metadata": {},
   "source": [
    "## Assignment 2: Candidate Elimination (in Python) [10 Points]\n",
    "\n",
    "In the following Python code there are four places marked with \n",
    "\n",
    "```python\n",
    "# TODO: ...\n",
    "``` \n",
    "\n",
    "where you have to add some code to make the Candidate Elimination work. Finish the code to automate the decision making for Earl and Fran."
   ]
  },
  {
   "cell_type": "code",
   "execution_count": null,
   "metadata": {
    "collapsed": true
   },
   "outputs": [],
   "source": [
    "def consistent(hypothesis, sample):\n",
    "    \"\"\"\n",
    "    Checks if a general hypothesis is consistent with a sample.\n",
    "    \"\"\"\n",
    "    return all([hypothesis[i] == sample[i] or hypothesis[i] == '?' for i in range(len(hypothesis))])"
   ]
  },
  {
   "cell_type": "code",
   "execution_count": null,
   "metadata": {
    "collapsed": true
   },
   "outputs": [],
   "source": [
    "def more_general(a, b):\n",
    "    \"\"\"\n",
    "    Checks if a is more general than b.\n",
    "    \"\"\"\n",
    "    # -- 8< --- snip -----------------------------------------------------------------\n",
    "    # See ML-02 slide 18 for the definition.\n",
    "    return all([a[i] == '?' or a[i] == b[i] for i in range(len(a))])\n",
    "    # -- 8< --- snap -----------------------------------------------------------------\n",
    "    # REPLACE: return True"
   ]
  },
  {
   "cell_type": "code",
   "execution_count": null,
   "metadata": {
    "collapsed": true
   },
   "outputs": [],
   "source": [
    "def more_specific(a, b):\n",
    "    \"\"\"\n",
    "    Checks if a is more specific than b.\n",
    "    \"\"\"\n",
    "    # -- 8< --- snip -----------------------------------------------------------------\n",
    "    # See ML-02 slide 18 for the definition.\n",
    "    return more_general(b, a)\n",
    "    # -- 8< --- snap -----------------------------------------------------------------\n",
    "    # REPLACE: return True"
   ]
  },
  {
   "cell_type": "code",
   "execution_count": null,
   "metadata": {
    "collapsed": true
   },
   "outputs": [],
   "source": [
    "# maximally general hypothesis\n",
    "G = [('?', '?', '?', '?')]\n",
    "# maximally specific hypothesis\n",
    "S = [('0', '0', '0', '0')]\n",
    "\n",
    "# attribute values\n",
    "AV = (['short', 'far'], ['cheap', 'expensive'], ['many', 'none'], ['yes', 'no'])\n",
    "\n",
    "# samples\n",
    "D = [ \n",
    "    {'sample': ('far',   'cheap',     'many', 'no' ), 'positive': True },\n",
    "    {'sample': ('short', 'expensive', 'many', 'no' ), 'positive': True },\n",
    "    {'sample': ('far',   'expensive', 'none', 'yes'), 'positive': False},\n",
    "    {'sample': ('short', 'cheap',     'none', 'yes'), 'positive': False},\n",
    "    {'sample': ('short', 'cheap',     'many', 'yes'), 'positive': True }\n",
    "]\n",
    "\n",
    "for d in D:\n",
    "    if d['positive']:\n",
    "        G = [g for g in G if consistent(g, d['sample'])]\n",
    "        for s in S:\n",
    "            if not consistent(s, d['sample']):\n",
    "                S.remove(s)\n",
    "                \n",
    "                # Add to S all minimal generalizations h of s\n",
    "                # TODO: change h = ('?', '?', '?', '?') such that it assigns the minimal generalization h \n",
    "                # instead of the most general hypothesis\n",
    "                # REPLACE: h = ('?', '?', '?', '?')\n",
    "                # -- 8< --- snip -----------------------------------------------------------------\n",
    "                h = []\n",
    "                for i in range(len(s)):\n",
    "                    if s[i] == '0' or s[i] == d['sample'][i]:\n",
    "                        h.append(d['sample'][i])\n",
    "                    else:\n",
    "                        h.append('?')\n",
    "                h = tuple(h)\n",
    "                # -- 8< --- snup -----------------------------------------------------------------\n",
    "                if consistent(h, d['sample']) and any([more_general(g, h) for g in G]):\n",
    "                    S.append(h)\n",
    "\n",
    "                # Remove from S any hypothesis that is more general than another hypothesis in S\n",
    "                for s2 in S:\n",
    "                    if any([more_general(s2, s3) and not s2 == s3 for s3 in S]):\n",
    "                        S.remove(s2)\n",
    "\n",
    "    else:\n",
    "        S = [s for s in S if not consistent(s, d['sample'])]\n",
    "        for g in G:\n",
    "            if consistent(g, d['sample']):\n",
    "                G.remove(g)\n",
    "                \n",
    "                # Add to G all minimal specializations h of g\n",
    "                for ai in range(len(AV)):\n",
    "                    if g[ai] == '?':\n",
    "                        h = list(g)\n",
    "                        h[ai] = AV[ai][1 - AV[ai].index(d['sample'][ai])]\n",
    "                        h = tuple(h)\n",
    "                        if not consistent(h, d['sample']) and any([more_specific(s, h) for s in S]):\n",
    "                            G.append(h)\n",
    "                \n",
    "                # Remove from G any hypothesis that is less general than another hypothesis in G\n",
    "                # TODO: remove the hypotheses analogous to above:\n",
    "                # -- 8< --- snip -----------------------------------------------------------------\n",
    "                for g2 in G:\n",
    "                    if any([more_specific(g2, g3) and not g2 == g3 for g3 in G]):\n",
    "                        G.remove(g2)\n",
    "                # -- 8< --- snup -----------------------------------------------------------------\n",
    "\n",
    "    print('Sample: {} {}\\nG: {}\\nS: {}\\n'.format('+' if d['positive'] else '-', d['sample'], G, S))"
   ]
  },
  {
   "cell_type": "markdown",
   "metadata": {
    "collapsed": true
   },
   "source": [
    "## Assignment 3: Inductive Bias [4 Points]"
   ]
  },
  {
   "cell_type": "markdown",
   "metadata": {},
   "source": [
    "### a) \n",
    "\n",
    "What is an inductive bias? Describe in your own words!"
   ]
  },
  {
   "cell_type": "markdown",
   "metadata": {
    "solution": true
   },
   "source": [
    "The inductive bias of a machine learning algorithm is the set of assumptions that must be added to the observed data to get a logical deduction from them.\n",
    "That means that it is some preference of the algorithm for a specific set of hypotheses based on a set of training observations."
   ]
  },
  {
   "cell_type": "markdown",
   "metadata": {},
   "source": [
    "### b)\n",
    "\n",
    "Which of the learning algorithms you heard about in the lecture (Candidate Elimination and Find-S) has the stronger bias?"
   ]
  },
  {
   "cell_type": "markdown",
   "metadata": {
    "solution": true
   },
   "source": [
    "The inductive bias of the Candidate Elimination algorithm is the assumption that the target concept is contained in the given hypothesis space.\n",
    "\n",
    "The inductive bias of the Find-S Algorithm is that the resulting hypothesis labels all new instances as negative instances unless the opposite is entailed by its prior knowledge from the training set. This has a really big impact as negative examples are ignored completely.\n",
    "\n",
    "This means Find-S has the stronger bias."
   ]
  }
 ],
 "metadata": {
  "kernelspec": {
   "display_name": "Python 3",
   "language": "python",
   "name": "python3"
  },
  "language_info": {
   "codemirror_mode": {
    "name": "ipython",
    "version": 3
   },
   "file_extension": ".py",
   "mimetype": "text/x-python",
   "name": "python",
   "nbconvert_exporter": "python",
   "pygments_lexer": "ipython3",
   "version": "3.8.5"
  },
  "widgets": {
   "state": {},
   "version": "1.0.0"
  }
 },
 "nbformat": 4,
 "nbformat_minor": 1
}
