{
 "cells": [
  {
   "cell_type": "markdown",
   "id": "c4bc65b1",
   "metadata": {
    "slideshow": {
     "slide_type": "slide"
    }
   },
   "source": [
    "# Machine Learning (Summer 2021)"
   ]
  },
  {
   "cell_type": "markdown",
   "id": "d972d81f",
   "metadata": {
    "slideshow": {
     "slide_type": "-"
    }
   },
   "source": [
    "## Practice Session 9"
   ]
  },
  {
   "cell_type": "markdown",
   "id": "2f217ffe",
   "metadata": {
    "slideshow": {
     "slide_type": "-"
    }
   },
   "source": [
    "### June 8st, 2021"
   ]
  },
  {
   "cell_type": "markdown",
   "id": "b9005b0d",
   "metadata": {
    "slideshow": {
     "slide_type": "-"
    }
   },
   "source": [
    "Axel Schaffland & Ulf Krumnack\n",
    "\n",
    "Institute of Cognitive Science,\n",
    "University of Osnabrück"
   ]
  },
  {
   "cell_type": "markdown",
   "id": "770c8f63",
   "metadata": {
    "slideshow": {
     "slide_type": "slide"
    }
   },
   "source": [
    "## Today's Session"
   ]
  },
  {
   "cell_type": "markdown",
   "id": "bfbade49",
   "metadata": {
    "slideshow": {
     "slide_type": "-"
    }
   },
   "source": [
    "* Diagonal of Correlation Matrix\n",
    "* Logic Perceptron\n",
    "* Deep Learning Resources\n",
    "* Perceptron in Detail\n",
    "* Tensorflow"
   ]
  },
  {
   "cell_type": "code",
   "execution_count": null,
   "id": "a6c384f7",
   "metadata": {},
   "outputs": [],
   "source": []
  },
  {
   "cell_type": "markdown",
   "id": "37e23f0a",
   "metadata": {},
   "source": [
    "## Is the diagonal of the correlation matrix always 1?"
   ]
  },
  {
   "cell_type": "markdown",
   "id": "74687671",
   "metadata": {},
   "source": [
    "Wrong output: correlation should be \n",
    " [[1.0, 0.0], [0.0, 0.0]] \n",
    "\n",
    "This is the right correlation matrix. But shouldn't be the diagonal always 1?"
   ]
  },
  {
   "cell_type": "code",
   "execution_count": 6,
   "id": "3b17f38d",
   "metadata": {},
   "outputs": [
    {
     "data": {
      "image/png": "[encoded data removed]",
      "text/plain": [
       "<Figure size 432x288 with 1 Axes>"
      ]
     },
     "metadata": {
      "needs_background": "light"
     },
     "output_type": "display_data"
    },
    {
     "name": "stdout",
     "output_type": "stream",
     "text": [
      "data:\n",
      "[[1 2]\n",
      " [2 2]\n",
      " [3 2]]\n",
      "centered data:\n",
      "[[-1.  0.]\n",
      " [ 0.  0.]\n",
      " [ 1.  0.]]\n",
      "covariance matrix:\n",
      "[[2. 0.]\n",
      " [0. 0.]]\n"
     ]
    }
   ],
   "source": [
    "import numpy as np\n",
    "import matplotlib.pyplot as plt\n",
    "\n",
    "%matplotlib inline\n",
    "def correlation(data):\n",
    "    \"\"\"\n",
    "    Input is an array of the form number_data * dimensions\n",
    "    An example is shown when this cell is executed\n",
    "    \"\"\"\n",
    "    # YOUR CODE HERE\n",
    "    print(\"data:\\n{}\".format(data))\n",
    "    ### BEGIN SOLUTION\n",
    "    centered = data - np.mean(data, axis=0)\n",
    "    print(\"centered data:\\n{}\".format(centered))\n",
    "    matrix = centered.T @ centered\n",
    "    print(\"covariance matrix:\\n{}\".format(matrix))\n",
    "    # Since the means are estimated from the data, we have to divide by |D|-1.\n",
    "    # See https://en.wikipedia.org/wiki/Covariance_matrix#Estimation\n",
    "    normalization_factor = 1 / (len(data)-1)\n",
    "    stds = np.expand_dims(np.std(data, axis=0, ddof=1), axis=0)\n",
    "    variance_matrix = np.transpose(stds) @ stds\n",
    "\n",
    "    correlation_matrix = np.divide(normalization_factor * matrix, \n",
    "                                   variance_matrix, \n",
    "                                   out=np.zeros_like(matrix), \n",
    "                                   where=variance_matrix!=0)\n",
    "    return correlation_matrix\n",
    "    ### END SOLUTION\n",
    "\n",
    "\n",
    "## DELETE COMMENTS TO SHOW THE DATA USED FOR ASSERTION\n",
    "example_x = [2,2,2]\n",
    "example_y = [1,2,3]\n",
    "example_data = np.stack([[1,2,3], [2,2,2]], axis=1)\n",
    "plt.scatter(example_x, example_y)\n",
    "plt.show()\n",
    "\n",
    "test_data1 = np.stack([[1,2,3], [2,2,2]], axis=1)\n",
    "cor1 = correlation(test_data1)\n",
    "real_cor1 = [[1.0, 0.0], [0.0, 0.0]]\n",
    "\n",
    "assert np.allclose(cor1, real_cor1), \"Wrong output: correlation should be \\n {} \\n for this data, is \\n {}\".format(real_cor1, cor1)"
   ]
  },
  {
   "cell_type": "markdown",
   "id": "c0b70510",
   "metadata": {},
   "source": [
    "$$\n",
    "\\begin{bmatrix}\n",
    "    cov(x,x) & cov(x,y) \\\\\n",
    "    cov(y,x) & cov(y,y)\n",
    "\\end{bmatrix}$$\n",
    "\n",
    "when\n",
    "$$cov(y,y) = cov(y,y) = \\frac{1}{n-1}\\sum_{i=1}^{n}(y_i-\\mu_y)(y_i-\\mu_y) \\leftarrow var(y)$$ \n",
    "\n",
    "\n",
    "if $y_1 = y_i$ for all $i={2\\dots n} \\rightarrow cov(y,y) = 0 \\rightarrow cor(y,y) = 0$"
   ]
  },
  {
   "cell_type": "code",
   "execution_count": null,
   "id": "db70abf6",
   "metadata": {},
   "outputs": [],
   "source": []
  },
  {
   "cell_type": "markdown",
   "id": "e365a380",
   "metadata": {},
   "source": [
    "## Resources on Artifical Neural Networks"
   ]
  },
  {
   "cell_type": "markdown",
   "id": "55aa7fcf",
   "metadata": {},
   "source": [
    "* Next Semester in Osnabrueck:\n",
    "    * [Vorlesung und Übung: Implementing ANNs with TensorFlow](https://studip.uni-osnabrueck.de/dispatch.php/course/details?sem_id=b16f30cfd047652abb0b01a5d617f84f)\n",
    "    * [Seminar: Selected topics in deep learning](https://studip.uni-osnabrueck.de/dispatch.php/course/details?sem_id=6ed0a58e7f7d50d3456ff98b11225655)\n",
    "* Book:\n",
    "    * *Ian Goodfellow, Yoshua Bengio, et al.* 2016. Deep Learning\n",
    "* Online:\n",
    "    * [CS231n: Convolutional Neural Networks for Visual Recognition](http://cs231n.stanford.edu/index.html)"
   ]
  },
  {
   "cell_type": "markdown",
   "id": "98e6d00a",
   "metadata": {
    "slideshow": {
     "slide_type": "subslide"
    }
   },
   "source": [
    "# TensorFlow / Keras"
   ]
  },
  {
   "cell_type": "markdown",
   "id": "b1fd8401",
   "metadata": {},
   "source": [
    "## Installation\n",
    "\n",
    "There exist two tensorflow packages that can be choosen for installation:\n",
    "* `tensorflow`: basic CPU version\n",
    "* `tensorflow-gpu`: support for dedicated CUDA graphic processing units (can speed up train by factor of 10-20)"
   ]
  },
  {
   "cell_type": "markdown",
   "id": "5a6acaff",
   "metadata": {
    "slideshow": {
     "slide_type": "subslide"
    }
   },
   "source": [
    "### Installation of the CPU version\n",
    "\n",
    "The CPU version can be installed with as follows (may take some time):"
   ]
  },
  {
   "cell_type": "code",
   "execution_count": 1,
   "id": "0184c7c9",
   "metadata": {},
   "outputs": [
    {
     "name": "stdout",
     "output_type": "stream",
     "text": [
      "Traceback (most recent call last):\r\n",
      "  File \"/usr/bin/conda\", line 13, in <module>\r\n",
      "    from conda.cli import main\r\n",
      "ModuleNotFoundError: No module named 'conda.cli'\r\n"
     ]
    }
   ],
   "source": [
    "!conda install -c anaconda -y tensorflow "
   ]
  },
  {
   "cell_type": "markdown",
   "id": "5648d12a",
   "metadata": {
    "slideshow": {
     "slide_type": "subslide"
    }
   },
   "source": [
    "### Installation of the GPU version\n",
    "\n",
    "If you have a CUDA-enabled GPU, installing the GPU-version is an option.\n",
    "\n",
    "On linux you may use `nvidia-smi` to check your GPU:"
   ]
  },
  {
   "cell_type": "code",
   "execution_count": null,
   "id": "0f3b32c2",
   "metadata": {
    "slideshow": {
     "slide_type": "-"
    }
   },
   "outputs": [],
   "source": [
    "!nvidia-smi"
   ]
  },
  {
   "cell_type": "markdown",
   "id": "9f990e71",
   "metadata": {
    "slideshow": {
     "slide_type": "subslide"
    }
   },
   "source": [
    "Installing the GPU version can be done as follows (may take even longer!):"
   ]
  },
  {
   "cell_type": "code",
   "execution_count": null,
   "id": "cc12c6bc",
   "metadata": {},
   "outputs": [],
   "source": [
    "!conda install -c anaconda -y tensorflow-gpu"
   ]
  },
  {
   "cell_type": "markdown",
   "id": "b92d6cd2",
   "metadata": {
    "slideshow": {
     "slide_type": "subslide"
    }
   },
   "source": [
    "### Check your installation"
   ]
  },
  {
   "cell_type": "code",
   "execution_count": 1,
   "id": "e80e791a",
   "metadata": {},
   "outputs": [
    {
     "name": "stdout",
     "output_type": "stream",
     "text": [
      "TensorFlow version: 2.2.0\n",
      "TensorFlow can access the following GPUs: [PhysicalDevice(name='/physical_device:GPU:0', device_type='GPU')]\n",
      "Eager execution: True\n"
     ]
    }
   ],
   "source": [
    "import tensorflow as tf\n",
    "\n",
    "print(\"TensorFlow version:\", tf.__version__)\n",
    "print(\"TensorFlow can access the following GPUs:\", tf.config.list_physical_devices('GPU'))\n",
    "print(\"Eager execution:\", tf.executing_eagerly())"
   ]
  },
  {
   "cell_type": "markdown",
   "id": "58ca21aa",
   "metadata": {
    "slideshow": {
     "slide_type": "subslide"
    }
   },
   "source": [
    "CPU and GPU performance:"
   ]
  },
  {
   "cell_type": "code",
   "execution_count": 2,
   "id": "aebd3d0c",
   "metadata": {},
   "outputs": [],
   "source": [
    "import time\n",
    "\n",
    "def measure(x, steps):\n",
    "    # TensorFlow initializes a GPU the first time it's used, exclude from timing.\n",
    "    tf.matmul(x, x)\n",
    "    start = time.time()\n",
    "    for i in range(steps):\n",
    "        x = tf.matmul(x, x)\n",
    "    # tf.matmul can return before completing the matrix multiplication\n",
    "    # (e.g., can return after enqueing the operation on a CUDA stream).\n",
    "    # The x.numpy() call below will ensure that all enqueued operations\n",
    "    # have completed (and will also copy the result to host memory,\n",
    "    # so we're including a little more than just the matmul operation\n",
    "    # time).\n",
    "    _ = x.numpy()\n",
    "    end = time.time()\n",
    "    return end - start"
   ]
  },
  {
   "cell_type": "code",
   "execution_count": 3,
   "id": "2d19ded0",
   "metadata": {
    "slideshow": {
     "slide_type": "subslide"
    }
   },
   "outputs": [
    {
     "name": "stdout",
     "output_type": "stream",
     "text": [
      "Time to multiply a (1000, 1000) matrix by itself 200 times:\n",
      "CPU: 0.7377219200134277 secs\n",
      "GPU: 0.08017134666442871 secs\n"
     ]
    }
   ],
   "source": [
    "shape = (1000, 1000)\n",
    "steps = 200\n",
    "print(\"Time to multiply a {} matrix by itself {} times:\".format(shape, steps))\n",
    "\n",
    "# Run on CPU:\n",
    "with tf.device(\"/cpu:0\"):\n",
    "    print(\"CPU: {} secs\".format(measure(tf.random.normal(shape), steps)))\n",
    "\n",
    "# Run on GPU, if available:\n",
    "if tf.config.experimental.list_physical_devices(\"GPU\"):\n",
    "    with tf.device(\"/gpu:0\"):\n",
    "        print(\"GPU: {} secs\".format(measure(tf.random.normal(shape), steps)))\n",
    "else:\n",
    "    print(\"GPU: not found\")"
   ]
  },
  {
   "cell_type": "markdown",
   "id": "ce0b4c1e",
   "metadata": {
    "slideshow": {
     "slide_type": "subslide"
    }
   },
   "source": [
    "## Example: The iris dataset\n",
    "\n",
    "Based on: [Custom training: walkthrough](https://www.tensorflow.org/tutorials/customization/custom_training_walkthrough)"
   ]
  },
  {
   "cell_type": "markdown",
   "id": "32bd03f7",
   "metadata": {
    "slideshow": {
     "slide_type": "subslide"
    }
   },
   "source": [
    "### Prepare training data\n",
    "\n",
    "Download the dataset:"
   ]
  },
  {
   "cell_type": "code",
   "execution_count": 4,
   "id": "f7db5811",
   "metadata": {},
   "outputs": [
    {
     "name": "stdout",
     "output_type": "stream",
     "text": [
      "Downloading data from https://storage.googleapis.com/download.tensorflow.org/data/iris_training.csv\n",
      "8192/2194 [================================================================================================================] - 0s 0us/step\n",
      "Local copy of the dataset file: /home/axel/.keras/datasets/iris_training.csv\n"
     ]
    }
   ],
   "source": [
    "import os\n",
    "\n",
    "train_dataset_url = \"https://storage.googleapis.com/download.tensorflow.org/data/iris_training.csv\"\n",
    "\n",
    "train_dataset_fp = tf.keras.utils.get_file(fname=os.path.basename(train_dataset_url),\n",
    "                                           origin=train_dataset_url)\n",
    "\n",
    "print(\"Local copy of the dataset file: {}\".format(train_dataset_fp))"
   ]
  },
  {
   "cell_type": "markdown",
   "id": "7d3e52ce",
   "metadata": {
    "slideshow": {
     "slide_type": "subslide"
    }
   },
   "source": [
    "Inspect the dataset:"
   ]
  },
  {
   "cell_type": "code",
   "execution_count": 5,
   "id": "804c5c31",
   "metadata": {},
   "outputs": [
    {
     "name": "stdout",
     "output_type": "stream",
     "text": [
      "120,4,setosa,versicolor,virginica\r\n",
      "6.4,2.8,5.6,2.2,2\r\n",
      "5.0,2.3,3.3,1.0,1\r\n",
      "4.9,2.5,4.5,1.7,2\r\n",
      "4.9,3.1,1.5,0.1,0\r\n"
     ]
    }
   ],
   "source": [
    "!head -n5 {train_dataset_fp}"
   ]
  },
  {
   "cell_type": "markdown",
   "id": "474b0f19",
   "metadata": {
    "slideshow": {
     "slide_type": "subslide"
    }
   },
   "source": [
    "Provide names for columns in the file:"
   ]
  },
  {
   "cell_type": "code",
   "execution_count": 6,
   "id": "c74178d6",
   "metadata": {},
   "outputs": [
    {
     "name": "stdout",
     "output_type": "stream",
     "text": [
      "Features: ['sepal_length', 'sepal_width', 'petal_length', 'petal_width']\n",
      "Label: species\n"
     ]
    }
   ],
   "source": [
    "column_names = ['sepal_length', 'sepal_width', 'petal_length', 'petal_width', 'species']\n",
    "class_names = ['Iris setosa', 'Iris versicolor', 'Iris virginica']\n",
    "\n",
    "feature_names = column_names[:-1]\n",
    "label_name = column_names[-1]\n",
    "\n",
    "print(\"Features: {}\".format(feature_names))\n",
    "print(\"Label: {}\".format(label_name))"
   ]
  },
  {
   "cell_type": "markdown",
   "id": "b08a61a8",
   "metadata": {
    "slideshow": {
     "slide_type": "subslide"
    }
   },
   "source": [
    "Prepare a tensorflow dataset:"
   ]
  },
  {
   "cell_type": "code",
   "execution_count": 7,
   "id": "369950ac",
   "metadata": {},
   "outputs": [],
   "source": [
    "batch_size = 32\n",
    "\n",
    "train_dataset = tf.data.experimental.make_csv_dataset(\n",
    "    train_dataset_fp,\n",
    "    batch_size,\n",
    "    column_names=column_names,\n",
    "    label_name=label_name,\n",
    "    num_epochs=1)"
   ]
  },
  {
   "cell_type": "markdown",
   "id": "bf97541a",
   "metadata": {
    "slideshow": {
     "slide_type": "subslide"
    }
   },
   "source": [
    "`trainset` is a `tf.data.Dataset` of (features, label) pairs:\n",
    "* where features is a dictionary: {'feature_name': value}\n",
    "\n",
    "This dataset object is iterable. Inspect a batch of features:"
   ]
  },
  {
   "cell_type": "code",
   "execution_count": 8,
   "id": "874f3c06",
   "metadata": {},
   "outputs": [
    {
     "name": "stdout",
     "output_type": "stream",
     "text": [
      "Feature keys: odict_keys(['sepal_length', 'sepal_width', 'petal_length', 'petal_width'])\n",
      "Feature values for 'sepal_length': [6.7 5.9 6.4 5.8 4.5 5.1 5.4 4.6 5.  6.5 4.9 5.8 5.8 4.4 5.4 7.6 5.2 6.3\n",
      " 5.8 4.8 7.2 5.1 5.5 5.5 6.5 4.9 6.8 6.9 6.2 6.4 5.  5.8]\n",
      "Feature values for 'sepal_width': [3.1 3.2 2.8 4.  2.3 3.8 3.9 3.2 2.3 3.2 3.1 2.8 2.6 2.9 3.9 3.  3.5 3.3\n",
      " 2.7 3.1 3.2 2.5 2.4 2.4 3.  3.1 3.  3.1 2.8 3.2 3.4 2.7]\n",
      "Labels: [2 1 2 0 0 0 0 0 1 2 0 2 1 0 0 2 0 2 2 0 2 1 1 1 2 0 2 2 2 1 0 2]\n"
     ]
    }
   ],
   "source": [
    "features, labels = next(iter(train_dataset))\n",
    "print(f\"Feature keys: {features.keys()}\")\n",
    "print(f\"Feature values for 'sepal_length': {features['sepal_length']}\")\n",
    "print(f\"Feature values for 'sepal_width': {features['sepal_width']}\")\n",
    "print(f\"Labels: {labels}\")"
   ]
  },
  {
   "cell_type": "markdown",
   "id": "5c8305bc",
   "metadata": {
    "slideshow": {
     "slide_type": "subslide"
    }
   },
   "source": [
    "Plot the data:"
   ]
  },
  {
   "cell_type": "code",
   "execution_count": 9,
   "id": "49274197",
   "metadata": {},
   "outputs": [
    {
     "data": {
      "image/png": "[encoded data removed]",
      "text/plain": [
       "<Figure size 432x288 with 1 Axes>"
      ]
     },
     "metadata": {
      "needs_background": "light"
     },
     "output_type": "display_data"
    }
   ],
   "source": [
    "import matplotlib.pyplot as plt\n",
    "\n",
    "plt.figure()\n",
    "plt.scatter(features['petal_length'],\n",
    "            features['sepal_length'],\n",
    "            c=labels,\n",
    "            cmap='viridis')\n",
    "\n",
    "plt.xlabel(\"Petal length\")\n",
    "plt.ylabel(\"Sepal length\")\n",
    "plt.show()"
   ]
  },
  {
   "cell_type": "markdown",
   "id": "014dfefe",
   "metadata": {
    "slideshow": {
     "slide_type": "subslide"
    }
   },
   "source": [
    "For further processing we require an array (not dict):"
   ]
  },
  {
   "cell_type": "code",
   "execution_count": 10,
   "id": "3f37a2fc",
   "metadata": {},
   "outputs": [
    {
     "name": "stdout",
     "output_type": "stream",
     "text": [
      "(32, 4)\n"
     ]
    }
   ],
   "source": [
    "def pack_features_vector(features, labels):\n",
    "    \"\"\"Pack the features into a single array.\"\"\"\n",
    "    features = tf.stack(list(features.values()), axis=1)\n",
    "    return features, labels\n",
    "\n",
    "train_data_array = train_dataset.map(pack_features_vector)\n",
    "features, labels = next(iter(train_data_array))\n",
    "\n",
    "print(features.shape)"
   ]
  },
  {
   "cell_type": "markdown",
   "id": "37bf2ffa",
   "metadata": {
    "slideshow": {
     "slide_type": "subslide"
    }
   },
   "source": [
    "### Setting up a model"
   ]
  },
  {
   "cell_type": "code",
   "execution_count": 11,
   "id": "6d7f11ea",
   "metadata": {},
   "outputs": [],
   "source": [
    "model = tf.keras.Sequential([\n",
    "  tf.keras.layers.Dense(10, activation=tf.nn.relu, input_shape=(4,)),  # input shape required\n",
    "  tf.keras.layers.Dense(10, activation=tf.nn.relu),\n",
    "  tf.keras.layers.Dense(3)\n",
    "])"
   ]
  },
  {
   "cell_type": "markdown",
   "id": "665fc1fc",
   "metadata": {
    "slideshow": {
     "slide_type": "subslide"
    }
   },
   "source": [
    "Apply the model to our data (just demo):"
   ]
  },
  {
   "cell_type": "code",
   "execution_count": 12,
   "id": "1c989009",
   "metadata": {},
   "outputs": [
    {
     "data": {
      "text/plain": [
       "<tf.Tensor: shape=(5, 3), dtype=float32, numpy=\n",
       "array([[-0.63007486,  1.2710476 , -0.662477  ],\n",
       "       [-0.6237778 ,  1.255663  , -0.5182271 ],\n",
       "       [-0.7121533 ,  1.2584938 , -0.6363567 ],\n",
       "       [-0.6773635 ,  1.1054407 , -0.5411053 ],\n",
       "       [-0.5309955 ,  1.3446649 , -0.29164752]], dtype=float32)>"
      ]
     },
     "execution_count": 12,
     "metadata": {},
     "output_type": "execute_result"
    }
   ],
   "source": [
    "predictions = model(features)\n",
    "predictions[:5]"
   ]
  },
  {
   "cell_type": "markdown",
   "id": "967067d4",
   "metadata": {
    "slideshow": {
     "slide_type": "subslide"
    }
   },
   "source": [
    "Normalize the output vector (softmax):"
   ]
  },
  {
   "cell_type": "code",
   "execution_count": 13,
   "id": "08bf0dba",
   "metadata": {},
   "outputs": [
    {
     "data": {
      "text/plain": [
       "<tf.Tensor: shape=(5, 3), dtype=float32, numpy=\n",
       "array([[0.11545316, 0.77277464, 0.1117722 ],\n",
       "       [0.11545793, 0.7562311 , 0.128311  ],\n",
       "       [0.10806067, 0.77536964, 0.11656971],\n",
       "       [0.12357142, 0.7348185 , 0.14161009],\n",
       "       [0.11369389, 0.74186707, 0.14443904]], dtype=float32)>"
      ]
     },
     "execution_count": 13,
     "metadata": {},
     "output_type": "execute_result"
    }
   ],
   "source": [
    "tf.nn.softmax(predictions[:5])"
   ]
  },
  {
   "cell_type": "markdown",
   "id": "1ed8e36d",
   "metadata": {
    "slideshow": {
     "slide_type": "subslide"
    }
   },
   "source": [
    "Determine the strongest output (using `argmax`):"
   ]
  },
  {
   "cell_type": "code",
   "execution_count": 14,
   "id": "58bd0fd2",
   "metadata": {},
   "outputs": [
    {
     "data": {
      "text/plain": [
       "<tf.Tensor: shape=(5,), dtype=int64, numpy=array([1, 1, 1, 1, 1])>"
      ]
     },
     "execution_count": 14,
     "metadata": {},
     "output_type": "execute_result"
    }
   ],
   "source": [
    "tf.argmax(predictions[:5], axis=1)"
   ]
  },
  {
   "cell_type": "markdown",
   "id": "88e5e100",
   "metadata": {
    "slideshow": {
     "slide_type": "subslide"
    }
   },
   "source": [
    "Compare to target values (from training data):"
   ]
  },
  {
   "cell_type": "code",
   "execution_count": 15,
   "id": "a82aaa44",
   "metadata": {},
   "outputs": [
    {
     "name": "stdout",
     "output_type": "stream",
     "text": [
      "Prediction: [1 1 1 1 1 1 1 1 1 1 1 1 1 1 1 1 1 1 1 1 1 1 1 1 1 1 1 1 1 1 1 1]\n",
      "    Labels: [1 1 2 1 0 0 0 2 0 1 1 1 2 1 1 0 1 1 2 1 1 0 0 2 2 2 0 0 1 0 0 0]\n"
     ]
    }
   ],
   "source": [
    "print(\"Prediction: {}\".format(tf.argmax(predictions, axis=1)))\n",
    "print(\"    Labels: {}\".format(labels))"
   ]
  },
  {
   "cell_type": "markdown",
   "id": "14f99163",
   "metadata": {},
   "source": [
    "### Training"
   ]
  },
  {
   "cell_type": "markdown",
   "id": "56337c0f",
   "metadata": {},
   "source": [
    "#### Defining a loss function\n",
    "\n",
    "Use the `SparseCategoricalCrossentropy` loss function when there are more than two label classes."
   ]
  },
  {
   "cell_type": "code",
   "execution_count": 16,
   "id": "ea3505b1",
   "metadata": {},
   "outputs": [
    {
     "name": "stdout",
     "output_type": "stream",
     "text": [
      "Loss test: 1.3973275423049927\n"
     ]
    }
   ],
   "source": [
    "loss_object = tf.keras.losses.SparseCategoricalCrossentropy(from_logits=True)\n",
    "\n",
    "def loss(model, x, y, training):\n",
    "    # training=training is needed only if there are layers with different\n",
    "    # behavior during training versus inference (e.g. Dropout).\n",
    "    y_ = model(x, training=training)\n",
    "\n",
    "    return loss_object(y_true=y, y_pred=y_)\n",
    "\n",
    "\n",
    "l = loss(model, features, labels, training=False)\n",
    "print(\"Loss test: {}\".format(l))"
   ]
  },
  {
   "cell_type": "markdown",
   "id": "044d7f3c",
   "metadata": {
    "slideshow": {
     "slide_type": "subslide"
    }
   },
   "source": [
    "#### Obtaining gradients\n",
    "\n",
    "Tensorflow can automatically compute gradients for a function:"
   ]
  },
  {
   "cell_type": "code",
   "execution_count": 17,
   "id": "64d48ceb",
   "metadata": {},
   "outputs": [],
   "source": [
    "def grad(model, inputs, targets):\n",
    "    with tf.GradientTape() as tape:\n",
    "        loss_value = loss(model, inputs, targets, training=True)\n",
    "    return loss_value, tape.gradient(loss_value, model.trainable_variables)"
   ]
  },
  {
   "cell_type": "markdown",
   "id": "34ecdc47",
   "metadata": {
    "slideshow": {
     "slide_type": "subslide"
    }
   },
   "source": [
    "Inspect the weight gradients for the current data:"
   ]
  },
  {
   "cell_type": "code",
   "execution_count": 18,
   "id": "713a47bf",
   "metadata": {},
   "outputs": [
    {
     "data": {
      "text/plain": [
       "(<tf.Tensor: shape=(), dtype=float32, numpy=1.3973275>,\n",
       " [<tf.Tensor: shape=(4, 10), dtype=float32, numpy=\n",
       "  array([[ 0.36917368,  0.        ,  0.        ,  0.        ,  0.56338364,\n",
       "           0.        ,  0.        ,  0.20387006,  0.1847411 ,  0.21763974],\n",
       "         [ 0.2907556 ,  0.        ,  0.        ,  0.        ,  0.3370393 ,\n",
       "           0.        ,  0.        ,  0.11184624,  0.16225654,  0.10972802],\n",
       "         [ 0.02137049,  0.        ,  0.        ,  0.        ,  0.2639362 ,\n",
       "           0.        ,  0.        ,  0.11983199, -0.03782891,  0.15117864],\n",
       "         [-0.02359112,  0.        ,  0.        ,  0.        ,  0.06900531,\n",
       "           0.        ,  0.        ,  0.03584533, -0.03298202,  0.04866296]],\n",
       "        dtype=float32)>,\n",
       "  <tf.Tensor: shape=(10,), dtype=float32, numpy=\n",
       "  array([0.08029528, 0.        , 0.        , 0.        , 0.10184926,\n",
       "         0.        , 0.        , 0.03451674, 0.04535961, 0.03461172],\n",
       "        dtype=float32)>,\n",
       "  <tf.Tensor: shape=(10, 10), dtype=float32, numpy=\n",
       "  array([[ 0.        ,  0.        ,  0.03102946,  0.01826639,  0.        ,\n",
       "           0.        ,  0.0445427 ,  0.01786618, -0.01731191,  0.        ],\n",
       "         [ 0.        ,  0.        ,  0.        ,  0.        ,  0.        ,\n",
       "           0.        ,  0.        ,  0.        ,  0.        ,  0.        ],\n",
       "         [ 0.        ,  0.        ,  0.        ,  0.        ,  0.        ,\n",
       "           0.        ,  0.        ,  0.        ,  0.        ,  0.        ],\n",
       "         [ 0.        ,  0.        ,  0.        ,  0.        ,  0.        ,\n",
       "           0.        ,  0.        ,  0.        ,  0.        ,  0.        ],\n",
       "         [ 0.        ,  0.        ,  0.7245963 ,  0.13016462,  0.        ,\n",
       "           0.        , -0.21245009,  0.13978153, -0.21374384,  0.        ],\n",
       "         [ 0.        ,  0.        ,  0.        ,  0.        ,  0.        ,\n",
       "           0.        ,  0.        ,  0.        ,  0.        ,  0.        ],\n",
       "         [ 0.        ,  0.        ,  0.        ,  0.        ,  0.        ,\n",
       "           0.        ,  0.        ,  0.        ,  0.        ,  0.        ],\n",
       "         [ 0.        ,  0.        ,  0.34500122,  0.10062473,  0.        ,\n",
       "           0.        ,  0.06218771,  0.1027309 , -0.12661389,  0.        ],\n",
       "         [ 0.        ,  0.        ,  0.27323705,  0.04973998,  0.        ,\n",
       "           0.        , -0.07733853,  0.05332442, -0.08102229,  0.        ],\n",
       "         [ 0.        ,  0.        ,  0.6848303 ,  0.15792744,  0.        ,\n",
       "           0.        , -0.05326952,  0.16478333, -0.22445154,  0.        ]],\n",
       "        dtype=float32)>,\n",
       "  <tf.Tensor: shape=(10,), dtype=float32, numpy=\n",
       "  array([ 0.        ,  0.        ,  0.19937325,  0.03870195,  0.        ,\n",
       "          0.        , -0.04625453,  0.04116334, -0.0606676 ,  0.        ],\n",
       "        dtype=float32)>,\n",
       "  <tf.Tensor: shape=(10, 3), dtype=float32, numpy=\n",
       "  array([[ 0.        ,  0.        ,  0.        ],\n",
       "         [ 0.        ,  0.        ,  0.        ],\n",
       "         [-0.8052076 ,  1.2984645 , -0.4932569 ],\n",
       "         [-0.61803865,  0.6748016 , -0.05676287],\n",
       "         [ 0.        ,  0.        ,  0.        ],\n",
       "         [ 0.        ,  0.        ,  0.        ],\n",
       "         [-0.77486825,  1.2318804 , -0.45701215],\n",
       "         [-0.23402582,  0.5094576 , -0.27543175],\n",
       "         [ 0.04569894,  0.15871605, -0.20441495],\n",
       "         [ 0.        ,  0.        ,  0.        ]], dtype=float32)>,\n",
       "  <tf.Tensor: shape=(3,), dtype=float32, numpy=array([-0.26069066,  0.35293257, -0.09224189], dtype=float32)>])"
      ]
     },
     "execution_count": 18,
     "metadata": {},
     "output_type": "execute_result"
    }
   ],
   "source": [
    "grad(model, features, labels)"
   ]
  },
  {
   "cell_type": "markdown",
   "id": "8cf00637",
   "metadata": {
    "slideshow": {
     "slide_type": "subslide"
    }
   },
   "source": [
    "### Providing an optimizer"
   ]
  },
  {
   "cell_type": "markdown",
   "id": "ea6ac79d",
   "metadata": {},
   "source": [
    "Different optimizers can be used:\n",
    "![Optimization algorithms visualized over time in 3D space](https://cs231n.github.io/assets/nn3/opt1.gif)\n",
    "(Source: Stanford class CS231n, MIT License, Image credit: Alec Radford) "
   ]
  },
  {
   "cell_type": "markdown",
   "id": "93bcb54e",
   "metadata": {
    "slideshow": {
     "slide_type": "subslide"
    }
   },
   "source": [
    "An optimizer can be choosen from `tf.keras.optimizers`:"
   ]
  },
  {
   "cell_type": "code",
   "execution_count": 19,
   "id": "54ecd12a",
   "metadata": {},
   "outputs": [],
   "source": [
    "optimizer = tf.keras.optimizers.SGD(learning_rate=0.01)"
   ]
  },
  {
   "cell_type": "code",
   "execution_count": 20,
   "id": "ab8ff06f",
   "metadata": {
    "slideshow": {
     "slide_type": "fragment"
    }
   },
   "outputs": [
    {
     "name": "stdout",
     "output_type": "stream",
     "text": [
      "Step: 0, Initial Loss: 1.3973275423049927\n"
     ]
    }
   ],
   "source": [
    "loss_value, grads = grad(model, features, labels)\n",
    "\n",
    "print(\"Step: {}, Initial Loss: {}\".format(optimizer.iterations.numpy(),\n",
    "                                          loss_value.numpy()))"
   ]
  },
  {
   "cell_type": "markdown",
   "id": "016a527a",
   "metadata": {
    "slideshow": {
     "slide_type": "subslide"
    }
   },
   "source": [
    "### Initializing training"
   ]
  },
  {
   "cell_type": "code",
   "execution_count": 21,
   "id": "2b100328",
   "metadata": {},
   "outputs": [
    {
     "name": "stdout",
     "output_type": "stream",
     "text": [
      "Step: 1,         Loss: 1.3146450519561768\n"
     ]
    }
   ],
   "source": [
    "optimizer.apply_gradients(zip(grads, model.trainable_variables))\n",
    "\n",
    "print(\"Step: {},         Loss: {}\".format(optimizer.iterations.numpy(),\n",
    "                                          loss(model, features, labels, training=True).numpy()))"
   ]
  },
  {
   "cell_type": "markdown",
   "id": "b74051a2",
   "metadata": {
    "slideshow": {
     "slide_type": "subslide"
    }
   },
   "source": [
    "#### The training loop"
   ]
  },
  {
   "cell_type": "code",
   "execution_count": 22,
   "id": "5cbeb01a",
   "metadata": {},
   "outputs": [
    {
     "name": "stdout",
     "output_type": "stream",
     "text": [
      "Epoch 000: Loss: 1.379, Accuracy: 30.000%\n",
      "Epoch 050: Loss: 0.415, Accuracy: 84.167%\n",
      "Epoch 100: Loss: 0.279, Accuracy: 93.333%\n",
      "Epoch 150: Loss: 0.211, Accuracy: 96.667%\n",
      "Epoch 200: Loss: 0.164, Accuracy: 96.667%\n"
     ]
    }
   ],
   "source": [
    "# Keep results for plotting\n",
    "train_loss_results = []\n",
    "train_accuracy_results = []\n",
    "\n",
    "num_epochs = 201\n",
    "\n",
    "for epoch in range(num_epochs):\n",
    "    epoch_loss_avg = tf.keras.metrics.Mean()\n",
    "    epoch_accuracy = tf.keras.metrics.SparseCategoricalAccuracy()\n",
    "\n",
    "    # Training loop - using batches of 32\n",
    "    for x, y in train_data_array:\n",
    "        # Optimize the model\n",
    "        loss_value, grads = grad(model, x, y)\n",
    "        optimizer.apply_gradients(zip(grads, model.trainable_variables))\n",
    "\n",
    "        # Track progress\n",
    "        epoch_loss_avg.update_state(loss_value)  # Add current batch loss\n",
    "        # Compare predicted label to actual label\n",
    "        # training=True is needed only if there are layers with different\n",
    "        # behavior during training versus inference (e.g. Dropout).\n",
    "        epoch_accuracy.update_state(y, model(x, training=True))\n",
    "\n",
    "    # End epoch\n",
    "    train_loss_results.append(epoch_loss_avg.result())\n",
    "    train_accuracy_results.append(epoch_accuracy.result())\n",
    "\n",
    "    if epoch % 50 == 0:\n",
    "        print(\"Epoch {:03d}: Loss: {:.3f}, Accuracy: {:.3%}\".format(epoch,\n",
    "                                                                    epoch_loss_avg.result(),\n",
    "                                                                    epoch_accuracy.result()))"
   ]
  },
  {
   "cell_type": "code",
   "execution_count": 23,
   "id": "e70803b7",
   "metadata": {
    "slideshow": {
     "slide_type": "subslide"
    }
   },
   "outputs": [
    {
     "data": {
      "image/png": "[encoded data removed]",
      "text/plain": [
       "<Figure size 864x576 with 2 Axes>"
      ]
     },
     "metadata": {
      "needs_background": "light"
     },
     "output_type": "display_data"
    }
   ],
   "source": [
    "plt.subplots(2, sharex=True, figsize=(12, 8))\n",
    "plt.suptitle('Training Metrics')\n",
    "plt.subplot(2,1,1)\n",
    "plt.ylabel(\"Loss\", fontsize=14)\n",
    "plt.plot(train_loss_results)\n",
    "\n",
    "plt.subplot(2,1,2)\n",
    "plt.ylabel(\"Accuracy\", fontsize=14)\n",
    "plt.xlabel(\"Epoch\", fontsize=14)\n",
    "plt.plot(train_accuracy_results)\n",
    "plt.show()"
   ]
  },
  {
   "cell_type": "markdown",
   "id": "9ee980f9",
   "metadata": {
    "slideshow": {
     "slide_type": "subslide"
    }
   },
   "source": [
    "### Evaluating the model"
   ]
  },
  {
   "cell_type": "markdown",
   "id": "36b05733",
   "metadata": {},
   "source": [
    "Download the test data:"
   ]
  },
  {
   "cell_type": "code",
   "execution_count": 24,
   "id": "2ba4df95",
   "metadata": {},
   "outputs": [
    {
     "name": "stdout",
     "output_type": "stream",
     "text": [
      "Downloading data from https://storage.googleapis.com/download.tensorflow.org/data/iris_test.csv\n",
      "8192/573 [============================================================================================================================================================================================================================================================================================================================================================================================================================================] - 0s 0us/step\n"
     ]
    }
   ],
   "source": [
    "test_url = \"https://storage.googleapis.com/download.tensorflow.org/data/iris_test.csv\"\n",
    "\n",
    "test_fp = tf.keras.utils.get_file(fname=os.path.basename(test_url),\n",
    "                                  origin=test_url)"
   ]
  },
  {
   "cell_type": "markdown",
   "id": "1a2114b6",
   "metadata": {
    "slideshow": {
     "slide_type": "subslide"
    }
   },
   "source": [
    "Load the test dataset"
   ]
  },
  {
   "cell_type": "code",
   "execution_count": 25,
   "id": "f158617f",
   "metadata": {},
   "outputs": [],
   "source": [
    "test_dataset = tf.data.experimental.make_csv_dataset(\n",
    "    test_fp,\n",
    "    batch_size,\n",
    "    column_names=column_names,\n",
    "    label_name='species',\n",
    "    num_epochs=1,\n",
    "    shuffle=False)\n",
    "\n",
    "test_dataset = test_dataset.map(pack_features_vector)"
   ]
  },
  {
   "cell_type": "markdown",
   "id": "a8e55510",
   "metadata": {
    "slideshow": {
     "slide_type": "subslide"
    }
   },
   "source": [
    "Compute the test accuracy:"
   ]
  },
  {
   "cell_type": "code",
   "execution_count": 26,
   "id": "d199354d",
   "metadata": {},
   "outputs": [
    {
     "name": "stdout",
     "output_type": "stream",
     "text": [
      "Test set accuracy: 96.667%\n"
     ]
    }
   ],
   "source": [
    "test_accuracy = tf.keras.metrics.Accuracy()\n",
    "\n",
    "for (x, y) in test_dataset:\n",
    "  # training=False is needed only if there are layers with different\n",
    "  # behavior during training versus inference (e.g. Dropout).\n",
    "  logits = model(x, training=False)\n",
    "  prediction = tf.argmax(logits, axis=1, output_type=tf.int32)\n",
    "  test_accuracy(prediction, y)\n",
    "\n",
    "print(\"Test set accuracy: {:.3%}\".format(test_accuracy.result()))"
   ]
  },
  {
   "cell_type": "markdown",
   "id": "718b7f51",
   "metadata": {
    "slideshow": {
     "slide_type": "subslide"
    }
   },
   "source": [
    "Inspect predictions on test data:"
   ]
  },
  {
   "cell_type": "code",
   "execution_count": 27,
   "id": "b1f4c9e7",
   "metadata": {},
   "outputs": [
    {
     "data": {
      "text/plain": [
       "<tf.Tensor: shape=(30, 2), dtype=int32, numpy=\n",
       "array([[1, 1],\n",
       "       [2, 2],\n",
       "       [0, 0],\n",
       "       [1, 1],\n",
       "       [1, 1],\n",
       "       [1, 1],\n",
       "       [0, 0],\n",
       "       [2, 2],\n",
       "       [1, 1],\n",
       "       [2, 2],\n",
       "       [2, 2],\n",
       "       [0, 0],\n",
       "       [2, 2],\n",
       "       [1, 1],\n",
       "       [1, 1],\n",
       "       [0, 0],\n",
       "       [1, 1],\n",
       "       [0, 0],\n",
       "       [0, 0],\n",
       "       [2, 2],\n",
       "       [0, 0],\n",
       "       [1, 1],\n",
       "       [2, 2],\n",
       "       [1, 2],\n",
       "       [1, 1],\n",
       "       [1, 1],\n",
       "       [0, 0],\n",
       "       [1, 1],\n",
       "       [2, 2],\n",
       "       [1, 1]], dtype=int32)>"
      ]
     },
     "execution_count": 27,
     "metadata": {},
     "output_type": "execute_result"
    }
   ],
   "source": [
    "tf.stack([y,prediction],axis=1)"
   ]
  },
  {
   "cell_type": "markdown",
   "id": "e2d64f91",
   "metadata": {
    "slideshow": {
     "slide_type": "subslide"
    }
   },
   "source": [
    "Show prediction for some examples:"
   ]
  },
  {
   "cell_type": "code",
   "execution_count": 28,
   "id": "5ccba5c4",
   "metadata": {},
   "outputs": [],
   "source": [
    "predict_dataset = tf.convert_to_tensor([\n",
    "    [5.1, 3.3, 1.7, 0.5,],\n",
    "    [5.9, 3.0, 4.2, 1.5,],\n",
    "    [6.9, 3.1, 5.4, 2.1]\n",
    "])"
   ]
  },
  {
   "cell_type": "code",
   "execution_count": 29,
   "id": "670e36f7",
   "metadata": {
    "slideshow": {
     "slide_type": "subslide"
    }
   },
   "outputs": [
    {
     "name": "stdout",
     "output_type": "stream",
     "text": [
      "Example 0 prediction: Iris setosa (98.0%)\n",
      "Example 1 prediction: Iris versicolor (91.6%)\n",
      "Example 2 prediction: Iris virginica (65.5%)\n"
     ]
    }
   ],
   "source": [
    "# training=False is needed only if there are layers with different\n",
    "# behavior during training versus inference (e.g. Dropout).\n",
    "predictions = model(predict_dataset, training=False)\n",
    "\n",
    "for i, logits in enumerate(predictions):\n",
    "    class_idx = tf.argmax(logits).numpy()\n",
    "    p = tf.nn.softmax(logits)[class_idx]\n",
    "    name = class_names[class_idx]\n",
    "    print(\"Example {} prediction: {} ({:4.1f}%)\".format(i, name, 100*p))"
   ]
  },
  {
   "cell_type": "markdown",
   "id": "ba0e3db8",
   "metadata": {
    "slideshow": {
     "slide_type": "slide"
    }
   },
   "source": [
    "## Example 2: MNIST"
   ]
  },
  {
   "cell_type": "markdown",
   "id": "e85ee948",
   "metadata": {},
   "source": [
    "Load the MNIST character data:"
   ]
  },
  {
   "cell_type": "code",
   "execution_count": 30,
   "id": "bab44c92",
   "metadata": {},
   "outputs": [
    {
     "name": "stdout",
     "output_type": "stream",
     "text": [
      "Downloading data from https://storage.googleapis.com/tensorflow/tf-keras-datasets/mnist.npz\n",
      "11493376/11490434 [==============================] - 1s 0us/step\n"
     ]
    }
   ],
   "source": [
    "import tensorflow as tf\n",
    "mnist = tf.keras.datasets.mnist\n",
    "\n",
    "(x_train, y_train),(x_test, y_test) = mnist.load_data()\n",
    "x_train, x_test = x_train / 255.0, x_test / 255.0"
   ]
  },
  {
   "cell_type": "markdown",
   "id": "8b710451",
   "metadata": {
    "slideshow": {
     "slide_type": "subslide"
    }
   },
   "source": [
    "Show example data:"
   ]
  },
  {
   "cell_type": "code",
   "execution_count": 31,
   "id": "10782784",
   "metadata": {},
   "outputs": [
    {
     "data": {
      "image/png": "[encoded data removed]",
      "text/plain": [
       "<Figure size 432x288 with 1 Axes>"
      ]
     },
     "metadata": {
      "needs_background": "light"
     },
     "output_type": "display_data"
    }
   ],
   "source": [
    "import random\n",
    "n = random.randint(0, len(x_train))\n",
    "plt.figure()\n",
    "plt.gray(); plt.title(f\"label={y_train[n]}\"); plt.imshow(x_train[n])\n",
    "plt.show()"
   ]
  },
  {
   "cell_type": "markdown",
   "id": "26fa9758",
   "metadata": {
    "slideshow": {
     "slide_type": "subslide"
    }
   },
   "source": [
    "Create a model:"
   ]
  },
  {
   "cell_type": "code",
   "execution_count": 32,
   "id": "0ad93e1d",
   "metadata": {},
   "outputs": [],
   "source": [
    "model = tf.keras.models.Sequential([\n",
    "tf.keras.layers.Flatten(input_shape=(28, 28)),\n",
    "tf.keras.layers.Dense(512, activation=tf.nn.relu),\n",
    "tf.keras.layers.Dropout(0.2),\n",
    "tf.keras.layers.Dense(10, activation=tf.nn.softmax)\n",
    "])\n",
    "model.compile(optimizer='adam', loss='sparse_categorical_crossentropy', metrics=['accuracy'])"
   ]
  },
  {
   "cell_type": "markdown",
   "id": "82bcb0aa",
   "metadata": {
    "slideshow": {
     "slide_type": "subslide"
    }
   },
   "source": [
    "Train the model:"
   ]
  },
  {
   "cell_type": "code",
   "execution_count": 33,
   "id": "5ff90540",
   "metadata": {},
   "outputs": [
    {
     "name": "stdout",
     "output_type": "stream",
     "text": [
      "Epoch 1/5\n",
      "1875/1875 [==============================] - 4s 2ms/step - loss: 0.2209 - accuracy: 0.9357\n",
      "Epoch 2/5\n",
      "1875/1875 [==============================] - 4s 2ms/step - loss: 0.0959 - accuracy: 0.9703\n",
      "Epoch 3/5\n",
      "1875/1875 [==============================] - 5s 2ms/step - loss: 0.0692 - accuracy: 0.9778\n",
      "Epoch 4/5\n",
      "1875/1875 [==============================] - 5s 2ms/step - loss: 0.0519 - accuracy: 0.9837\n",
      "Epoch 5/5\n",
      "1875/1875 [==============================] - 3s 2ms/step - loss: 0.0432 - accuracy: 0.9862\n"
     ]
    }
   ],
   "source": [
    "h = model.fit(x_train, y_train, epochs=5)"
   ]
  },
  {
   "cell_type": "markdown",
   "id": "bfc50952",
   "metadata": {},
   "source": [
    "Evaluate the model:"
   ]
  },
  {
   "cell_type": "code",
   "execution_count": 34,
   "id": "7aea3ca1",
   "metadata": {},
   "outputs": [
    {
     "name": "stdout",
     "output_type": "stream",
     "text": [
      "313/313 [==============================] - 0s 953us/step - loss: 0.0708 - accuracy: 0.9795\n"
     ]
    },
    {
     "data": {
      "text/plain": [
       "[0.07077594846487045, 0.9794999957084656]"
      ]
     },
     "execution_count": 34,
     "metadata": {},
     "output_type": "execute_result"
    }
   ],
   "source": [
    "model.evaluate(x_test, y_test)"
   ]
  },
  {
   "cell_type": "markdown",
   "id": "6830284f",
   "metadata": {
    "slideshow": {
     "slide_type": "slide"
    }
   },
   "source": [
    "## More information\n",
    "\n",
    "You can have a look at the tensorflow tutorials:\n",
    "https://www.tensorflow.org/tutorials/"
   ]
  }
 ],
 "metadata": {
  "kernelspec": {
   "display_name": "Python 3",
   "language": "python",
   "name": "python3"
  },
  "language_info": {
   "codemirror_mode": {
    "name": "ipython",
    "version": 3
   },
   "file_extension": ".py",
   "mimetype": "text/x-python",
   "name": "python",
   "nbconvert_exporter": "python",
   "pygments_lexer": "ipython3",
   "version": "3.6.13"
  }
 },
 "nbformat": 4,
 "nbformat_minor": 5
}
