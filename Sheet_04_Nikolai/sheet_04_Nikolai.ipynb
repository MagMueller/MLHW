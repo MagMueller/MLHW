{
 "cells": [
  {
   "cell_type": "markdown",
   "id": "f6cc142a",
   "metadata": {
    "deletable": false,
    "editable": false,
    "nbgrader": {
     "cell_type": "markdown",
     "checksum": "9d1aa1af06af93b20607574ce33b2d36",
     "grade": false,
     "grade_id": "cell-052996cdde78445b",
     "locked": true,
     "schema_version": 3,
     "solution": false
    }
   },
   "source": [
    "Osnabrück University - Machine Learning (Summer Term 2021) - Prof. Dr.-Ing. G. Heidemann, Axel Schaffland, Ulf Krumnack"
   ]
  },
  {
   "cell_type": "markdown",
   "id": "fb4e5a80",
   "metadata": {
    "deletable": false,
    "editable": false,
    "nbgrader": {
     "cell_type": "markdown",
     "checksum": "25a2663f7e80ba30383d15a954b5ac20",
     "grade": false,
     "grade_id": "heading",
     "locked": true,
     "schema_version": 3,
     "solution": false
    }
   },
   "source": [
    "# Exercise Sheet 04: Clustering"
   ]
  },
  {
   "cell_type": "markdown",
   "id": "8c330925",
   "metadata": {
    "deletable": false,
    "editable": false,
    "nbgrader": {
     "cell_type": "markdown",
     "checksum": "a209f3ae5b15f19930032e3229482417",
     "grade": false,
     "grade_id": "intro",
     "locked": true,
     "schema_version": 3,
     "solution": false
    }
   },
   "source": [
    "## Introduction\n",
    "\n",
    "This week's sheet should be solved and handed in before the end of **Tuesday, May 18, 2021**. If you need help (and Google and other resources were not enough), feel free to contact your groups designated tutor or whomever of us you run into first. Please upload your results to your group's Stud.IP folder.\n",
    "\n",
    "In the following tasks we will be relying on numpy. Using the following import we expect it to be in global scope as `np`. Therefore we can, after executing the following cell, use stuff like `np.array` and `np.sqrt`. Check out the [NumPy Reference](http://docs.scipy.org/doc/numpy/reference/index.html) and especially search it using e.g. [Google Site Search](https://www.google.de/search?q=array+site%3Adocs.scipy.org%2Fdoc%2Fnumpy)! You can also try `np.lookfor('keyword search docstrings')` to get help."
   ]
  },
  {
   "cell_type": "code",
   "execution_count": 1,
   "id": "fe21b62a",
   "metadata": {
    "deletable": false,
    "nbgrader": {
     "cell_type": "code",
     "checksum": "796f8bc5e111dd5a4bf7b7143bf130fd",
     "grade": true,
     "grade_id": "cell-e5fb2c4ae7785602",
     "locked": false,
     "points": 0,
     "schema_version": 3,
     "solution": true,
     "task": false
    }
   },
   "outputs": [
    {
     "name": "stdout",
     "output_type": "stream",
     "text": [
      "Search results for 'get array diagonal'\n",
      "---------------------------------------\n",
      "numpy.fill_diagonal\n",
      "    Fill the main diagonal of the given array of any dimensionality.\n",
      "numpy.mask_indices\n",
      "    Return the indices to access (n, n) arrays, given a masking function.\n",
      "numpy.random.Generator.multivariate_normal\n",
      "    Draw random samples from a multivariate normal distribution.\n",
      "numpy.random.RandomState.multivariate_normal\n",
      "    Draw random samples from a multivariate normal distribution.\n"
     ]
    }
   ],
   "source": [
    "import numpy as np\n",
    "np.lookfor('get array diagonal')\n",
    "\n",
    "# Try other queries here\n",
    "# YOUR CODE HERE"
   ]
  },
  {
   "cell_type": "markdown",
   "id": "d79267b3",
   "metadata": {
    "deletable": false,
    "editable": false,
    "nbgrader": {
     "cell_type": "markdown",
     "checksum": "ad3ba1c4e9d641050eb9c7e2e621f9e0",
     "grade": false,
     "grade_id": "cell-0ceaa7378e4a713d",
     "locked": true,
     "schema_version": 3,
     "solution": false
    }
   },
   "source": [
    "## Assignment 0: Math recap (Eigenvectors and Eigenvalues) [0 Points]\n",
    "\n",
    "This exercise is supposed to be very easy, does not give any points, and is voluntary. There will be a similar exercise on every sheet. It is intended to revise some basic mathematical notions that are assumed throughout this class and to allow you to check if you are comfortable with them. Usually you should have no problem to answer these questions offhand, but if you feel unsure, this is a good time to look them up again. You are always welcome to discuss questions with the tutors or in the practice session. Also, if you have a (math) topic you would like to recap, please let us know."
   ]
  },
  {
   "cell_type": "markdown",
   "id": "7fb56b61",
   "metadata": {
    "deletable": false,
    "editable": false,
    "nbgrader": {
     "cell_type": "markdown",
     "checksum": "73f5890da9ce4d25e9e3792583ebb627",
     "grade": false,
     "grade_id": "cell-106b918b6f9c6fea",
     "locked": true,
     "schema_version": 3,
     "solution": false
    }
   },
   "source": [
    "**a)** What is an eigenvector of a matrix/a linear mapping? What are eigenvalues?"
   ]
  },
  {
   "cell_type": "markdown",
   "id": "0e01fea0",
   "metadata": {
    "deletable": false,
    "nbgrader": {
     "cell_type": "markdown",
     "checksum": "36475d2d0f85070bc2f5c7617633e228",
     "grade": true,
     "grade_id": "cell-f80e2cfbc5dae96a",
     "locked": false,
     "points": 0,
     "schema_version": 3,
     "solution": true
    },
    "solution": true
   },
   "source": [
    "YOUR ANSWER HERE"
   ]
  },
  {
   "cell_type": "markdown",
   "id": "38245397",
   "metadata": {
    "deletable": false,
    "editable": false,
    "nbgrader": {
     "cell_type": "markdown",
     "checksum": "a3e11c3b58acdf8bea3841ff97bc910b",
     "grade": false,
     "grade_id": "cell-10c6f038150609e1",
     "locked": true,
     "schema_version": 3,
     "solution": false
    }
   },
   "source": [
    "**b)** What is the characteristic polynomial of a matrix? How is it related to eigenvalues? What are algebraic and geometric multiplicity of an eigenvalue?"
   ]
  },
  {
   "cell_type": "markdown",
   "id": "d2cc9e05",
   "metadata": {
    "deletable": false,
    "nbgrader": {
     "cell_type": "markdown",
     "checksum": "4ff3d7e15d56e4dbc54eaef465500577",
     "grade": true,
     "grade_id": "cell-c45db6ae30a5507a",
     "locked": false,
     "points": 0,
     "schema_version": 3,
     "solution": true
    },
    "solution": true
   },
   "source": [
    "YOUR ANSWER HERE"
   ]
  },
  {
   "cell_type": "markdown",
   "id": "8f4c76ab",
   "metadata": {
    "deletable": false,
    "editable": false,
    "nbgrader": {
     "cell_type": "markdown",
     "checksum": "68f4221888e27427dc63c2e414edcf35",
     "grade": false,
     "grade_id": "cell-7822385798587c45",
     "locked": true,
     "schema_version": 3,
     "solution": false
    }
   },
   "source": [
    "**c)** What is the spectrum of a matrix? What does the spectral theorem state?"
   ]
  },
  {
   "cell_type": "markdown",
   "id": "b89874c5",
   "metadata": {
    "deletable": false,
    "nbgrader": {
     "cell_type": "markdown",
     "checksum": "94696dd22018d912b2a84a73c0a13030",
     "grade": true,
     "grade_id": "cell-1a5e17baf68e02e1",
     "locked": false,
     "points": 0,
     "schema_version": 3,
     "solution": true
    },
    "solution": true
   },
   "source": [
    "YOUR ANSWER HERE"
   ]
  },
  {
   "cell_type": "markdown",
   "id": "302e2338",
   "metadata": {
    "deletable": false,
    "editable": false,
    "nbgrader": {
     "cell_type": "markdown",
     "checksum": "2009461a626ca1c13fce0cf5ca586c80",
     "grade": false,
     "grade_id": "math-eigen-q4",
     "locked": true,
     "schema_version": 3,
     "solution": false
    }
   },
   "source": [
    "**d)** [bonus task]: Numpy/Scipy provide functions to compute eigenvalues. Lookup these functions and apply them to an example."
   ]
  },
  {
   "cell_type": "code",
   "execution_count": null,
   "id": "c247fa0e",
   "metadata": {
    "deletable": false,
    "nbgrader": {
     "cell_type": "code",
     "checksum": "921f072e460d78509d4e2626c8d1008f",
     "grade": true,
     "grade_id": "cell-2400c166c6ecc90d",
     "locked": false,
     "points": 0,
     "schema_version": 3,
     "solution": true
    }
   },
   "outputs": [],
   "source": [
    "# YOUR CODE HERE"
   ]
  },
  {
   "cell_type": "markdown",
   "id": "f3c44e0a",
   "metadata": {},
   "source": [
    "# Clustering"
   ]
  },
  {
   "cell_type": "markdown",
   "id": "00142f55",
   "metadata": {
    "deletable": false,
    "editable": false,
    "nbgrader": {
     "cell_type": "markdown",
     "checksum": "8afb6204836953dc4e2ca6c676ebd1a8",
     "grade": false,
     "grade_id": "1",
     "locked": true,
     "schema_version": 3,
     "solution": false
    }
   },
   "source": [
    "## Assignment 1: Distance Measures for Clusters [5 Points]"
   ]
  },
  {
   "cell_type": "markdown",
   "id": "2de618f7",
   "metadata": {
    "deletable": false,
    "editable": false,
    "nbgrader": {
     "cell_type": "markdown",
     "checksum": "c3bdf072619c87597c30d9294228466a",
     "grade": false,
     "grade_id": "1_ax",
     "locked": true,
     "schema_version": 3,
     "solution": false
    }
   },
   "source": [
    "### a) Point and cluster distances\n",
    "\n",
    "Explain the difference of point and cluster distances and their relation to each other. Give examples."
   ]
  },
  {
   "cell_type": "markdown",
   "id": "23f2a9e7",
   "metadata": {
    "deletable": false,
    "nbgrader": {
     "cell_type": "markdown",
     "checksum": "284368872533018ef80860f1fe589eae",
     "grade": true,
     "grade_id": "cell-64b9b3273be847ac",
     "locked": false,
     "points": 1,
     "schema_version": 3,
     "solution": true,
     "task": false
    }
   },
   "source": [
    "While distance of two singular points can only be measured in one way, cluster distances contain an collection of points and therefore can be measured in multiple fashions. The minimum and maximum distance of two clusters are the distances of the two points closest and furthes points from each other respectively."
   ]
  },
  {
   "cell_type": "markdown",
   "id": "66571122",
   "metadata": {
    "deletable": false,
    "editable": false,
    "nbgrader": {
     "cell_type": "markdown",
     "checksum": "ed469addf79584f8d8e974e2be8eb523",
     "grade": false,
     "grade_id": "cell-efa27e859e56e6dd",
     "locked": true,
     "schema_version": 3,
     "solution": false,
     "task": false
    }
   },
   "source": [
    "### b) Mean and centroid distance\n",
    "\n",
    "* Describe how the cluster metrics *mean distance* and *centroid distance* work.\n",
    "* What formal requirements do they have?\n",
    "* What is their computational complexity? \n",
    "* Give a numerical example of clusters (with cluster size at least 2), where they lead to (a) the same result and (b) different results."
   ]
  },
  {
   "cell_type": "markdown",
   "id": "fd289259",
   "metadata": {
    "deletable": false,
    "nbgrader": {
     "cell_type": "markdown",
     "checksum": "9c2d641c8c6d68d1b72a02b5f3236393",
     "grade": true,
     "grade_id": "cell-d8619b5b4e63d573",
     "locked": false,
     "points": 2,
     "schema_version": 3,
     "solution": true,
     "task": false
    }
   },
   "source": [
    "The mean disstance of two clusters is calculated by taking the mean of the distances of all points from cluster X and all points of cluster Y. The centroid distance is the distance between the two cluster centroids of cluster X and Cluster Y.\n",
    "\n",
    "The mean distances only requires the distances between all points in the clusters while the centroid distance requires numerical attribute values.\n",
    "\n",
    "MD has a computational complexity of O(n), while CD has a computational complexity of O(logn) with n = number of points\n",
    "\n",
    "(a) x1 = [-2,0] x2 =[-1,0] y1 = [1,0] y2 = [2,0]\n",
    "MD: 1/4 * 3+4+2+3 = 3\n",
    "CD: d([-1,5], [1,5]) = 3\n",
    "\n",
    "(b) x1 = [-1,-1] x2 = [-1, 1] y1 = [1,-1] y2 = [1,1]\n",
    "MD: 1/4 * 2+2+2.8+2.8 = 2.5\n",
    "CD: d([-1,0],[1,0]) = 2"
   ]
  },
  {
   "cell_type": "markdown",
   "id": "aaad1298",
   "metadata": {
    "deletable": false,
    "editable": false,
    "nbgrader": {
     "cell_type": "markdown",
     "checksum": "0205c48444227dfa8a531d6fa0ae6300",
     "grade": false,
     "grade_id": "1_b",
     "locked": true,
     "schema_version": 3,
     "solution": false
    }
   },
   "source": [
    "### c) Implemention of  mean and centroid distance\n",
    "\n",
    "Now implement the $d_{mean}$ and $d_{centroid}$ distance from the lecture. Each function expects two clusters each represented by a 2-dimensional numpy array, where the number of columns $n$ reflects the dimensionality of the data space and has to agree for both clusters, while the number of rows $mx$ and $my$ can vary from cluster to cluster. The return value is the respective distance.  Use the Euclidean distance as underlying metric.\n",
    "\n",
    "Hint: you may consider using the function `scipy.spatial.distance.cdist`. Consult the documentation to find out how to use it."
   ]
  },
  {
   "cell_type": "code",
   "execution_count": 10,
   "id": "21435a72",
   "metadata": {
    "deletable": false,
    "nbgrader": {
     "cell_type": "code",
     "checksum": "6461d8332fc7d2d2cadea2aea316f6a8",
     "grade": true,
     "grade_id": "1_b_code",
     "locked": false,
     "points": 1,
     "schema_version": 3,
     "solution": true
    }
   },
   "outputs": [],
   "source": [
    "from scipy.spatial.distance import cdist\n",
    "import numpy as np\n",
    "\n",
    "def d_mean(cluster1, cluster2):\n",
    "    \"\"\"\n",
    "    Mean distance between points of two clusters.\n",
    "   \n",
    "    Args:\n",
    "        cluster1 (ndarray): Points belonging to cluster 1 of shape (num_points, num_dimensions).\n",
    "        cluster2 (ndarray): Points belonging to cluster 1 of shape (num_points, num_dimensions).\n",
    "    \n",
    "    Returns:\n",
    "        float: The mean distance between the points in the two clusters.\n",
    "    \"\"\"\n",
    "    # YOUR CODE HERE\n",
    "    return np.mean(cdist(cluster1, cluster2))\n",
    "\n",
    "x = np.array([[1,2,3], [4,5,6], [7,8,9]])\n",
    "y = np.array([[13,14,15], [16,17,18], [19,20,21], [5,45,1], [1,12,7]])\n",
    "\n",
    "epsilon = 1e-3\n",
    "assert abs(d_mean(x, y) - 22.297) < epsilon, \"Result is not correct: {}\".format(d_mean(x, y))\n",
    "assert d_mean(x, y) == d_mean(y, x), \"X,Y is not equal to Y,X: {} != {}\".format(d_mean(x, y), d_mean(y, x))"
   ]
  },
  {
   "cell_type": "code",
   "execution_count": 32,
   "id": "d57b8aca",
   "metadata": {
    "deletable": false,
    "nbgrader": {
     "cell_type": "code",
     "checksum": "401f4da23fe87df2d3b78bbd599f2e68",
     "grade": true,
     "grade_id": "1_c_code",
     "locked": false,
     "points": 1,
     "schema_version": 3,
     "solution": true
    }
   },
   "outputs": [
    {
     "ename": "AssertionError",
     "evalue": "Result is not correct: 0.0",
     "output_type": "error",
     "traceback": [
      "\u001b[1;31m---------------------------------------------------------------------------\u001b[0m",
      "\u001b[1;31mAssertionError\u001b[0m                            Traceback (most recent call last)",
      "\u001b[1;32m<ipython-input-32-1c549cd443e8>\u001b[0m in \u001b[0;36m<module>\u001b[1;34m\u001b[0m\n\u001b[0;32m     20\u001b[0m \u001b[1;33m\u001b[0m\u001b[0m\n\u001b[0;32m     21\u001b[0m \u001b[0mepsilon\u001b[0m \u001b[1;33m=\u001b[0m \u001b[1;36m1e-3\u001b[0m\u001b[1;33m\u001b[0m\u001b[1;33m\u001b[0m\u001b[0m\n\u001b[1;32m---> 22\u001b[1;33m \u001b[1;32massert\u001b[0m \u001b[0mabs\u001b[0m\u001b[1;33m(\u001b[0m\u001b[0md_centroid\u001b[0m\u001b[1;33m(\u001b[0m\u001b[0mx\u001b[0m\u001b[1;33m,\u001b[0m \u001b[0my\u001b[0m\u001b[1;33m)\u001b[0m \u001b[1;33m-\u001b[0m \u001b[1;36m20.785\u001b[0m\u001b[1;33m)\u001b[0m \u001b[1;33m<\u001b[0m \u001b[0mepsilon\u001b[0m\u001b[1;33m,\u001b[0m \u001b[1;34m\"Result is not correct: {}\"\u001b[0m\u001b[1;33m.\u001b[0m\u001b[0mformat\u001b[0m\u001b[1;33m(\u001b[0m\u001b[0md_centroid\u001b[0m\u001b[1;33m(\u001b[0m\u001b[0mx\u001b[0m\u001b[1;33m,\u001b[0m \u001b[0my\u001b[0m\u001b[1;33m)\u001b[0m\u001b[1;33m)\u001b[0m\u001b[1;33m\u001b[0m\u001b[1;33m\u001b[0m\u001b[0m\n\u001b[0m\u001b[0;32m     23\u001b[0m \u001b[1;32massert\u001b[0m \u001b[0mabs\u001b[0m\u001b[1;33m(\u001b[0m\u001b[0md_centroid\u001b[0m\u001b[1;33m(\u001b[0m\u001b[0mz\u001b[0m\u001b[1;33m,\u001b[0m \u001b[0mw\u001b[0m\u001b[1;33m)\u001b[0m \u001b[1;33m-\u001b[0m \u001b[1;36m55.069\u001b[0m\u001b[1;33m)\u001b[0m \u001b[1;33m<\u001b[0m \u001b[0mepsilon\u001b[0m\u001b[1;33m,\u001b[0m \u001b[1;34m\"Result is not correct: {}\"\u001b[0m\u001b[1;33m.\u001b[0m\u001b[0mformat\u001b[0m\u001b[1;33m(\u001b[0m\u001b[0md_centroid\u001b[0m\u001b[1;33m(\u001b[0m\u001b[0mz\u001b[0m\u001b[1;33m,\u001b[0m \u001b[0mw\u001b[0m\u001b[1;33m)\u001b[0m\u001b[1;33m)\u001b[0m\u001b[1;33m\u001b[0m\u001b[1;33m\u001b[0m\u001b[0m\n\u001b[0;32m     24\u001b[0m \u001b[1;32massert\u001b[0m \u001b[0md_centroid\u001b[0m\u001b[1;33m(\u001b[0m\u001b[0mx\u001b[0m\u001b[1;33m,\u001b[0m \u001b[0my\u001b[0m\u001b[1;33m)\u001b[0m \u001b[1;33m==\u001b[0m \u001b[0md_centroid\u001b[0m\u001b[1;33m(\u001b[0m\u001b[0my\u001b[0m\u001b[1;33m,\u001b[0m \u001b[0mx\u001b[0m\u001b[1;33m)\u001b[0m\u001b[1;33m,\u001b[0m \u001b[1;34m\"X,Y is not equal to Y,X: {} != {}\"\u001b[0m\u001b[1;33m.\u001b[0m\u001b[0mformat\u001b[0m\u001b[1;33m(\u001b[0m\u001b[0md_centroid\u001b[0m\u001b[1;33m(\u001b[0m\u001b[0mx\u001b[0m\u001b[1;33m,\u001b[0m \u001b[0my\u001b[0m\u001b[1;33m)\u001b[0m\u001b[1;33m,\u001b[0m \u001b[0md_centroid\u001b[0m\u001b[1;33m(\u001b[0m\u001b[0my\u001b[0m\u001b[1;33m,\u001b[0m \u001b[0mx\u001b[0m\u001b[1;33m)\u001b[0m\u001b[1;33m)\u001b[0m\u001b[1;33m\u001b[0m\u001b[1;33m\u001b[0m\u001b[0m\n",
      "\u001b[1;31mAssertionError\u001b[0m: Result is not correct: 0.0"
     ]
    }
   ],
   "source": [
    "def d_centroid(cluster1, cluster2):\n",
    "    \"\"\"\n",
    "    Calculate the distance between the centroids of two clusters.\n",
    "    \n",
    "    Args:\n",
    "        cluster1 (ndarray): Points belonging to cluster 1 of shape (num_points, num_dimensions).\n",
    "        cluster2 (ndarray): Points belonging to cluster 1 of shape (num_points, num_dimensions).\n",
    "    \n",
    "    Returns:\n",
    "        float: The distance between the centroids of two clusters.\n",
    "    \"\"\"\n",
    "    # YOUR CODE HERE\n",
    "    return cdist([np.mean(cluster1, axis=0)],[np.mean(cluster1,axis=0)])[0,0]\n",
    "\n",
    "\n",
    "x = np.array([[1,2,3], [4,5,6], [7,8,9]])\n",
    "y = np.array([[13,14,15], [16,17,18], [19,20,21]])\n",
    "z = np.array([[-2,0], [-1,100]])\n",
    "w = np.array([[2,0], [1,100], [1,-100], [1,-20]])\n",
    "\n",
    "epsilon = 1e-3\n",
    "assert abs(d_centroid(x, y) - 20.785) < epsilon, \"Result is not correct: {}\".format(d_centroid(x, y))\n",
    "assert abs(d_centroid(z, w) - 55.069) < epsilon, \"Result is not correct: {}\".format(d_centroid(z, w))\n",
    "assert d_centroid(x, y) == d_centroid(y, x), \"X,Y is not equal to Y,X: {} != {}\".format(d_centroid(x, y), d_centroid(y, x)) "
   ]
  },
  {
   "cell_type": "code",
   "execution_count": 30,
   "id": "8463e9c5",
   "metadata": {},
   "outputs": [
    {
     "data": {
      "text/plain": [
       "array([[20.78460969]])"
      ]
     },
     "execution_count": 30,
     "metadata": {},
     "output_type": "execute_result"
    }
   ],
   "source": [
    "cluster1=np.array([[1,2,3], [4,5,6], [7,8,9]])\n",
    "cluster2=y = np.array([[13,14,15], [16,17,18], [19,20,21]])\n",
    "\n",
    "c_1 = ((sum(cluster1)/len(cluster1)))\n",
    "c_2 = ((sum(cluster2)/len(cluster2)))\n",
    "\n",
    "cdist([c_1],[c_2])\n"
   ]
  },
  {
   "cell_type": "markdown",
   "id": "6c8fe4ca",
   "metadata": {
    "deletable": false,
    "editable": false,
    "nbgrader": {
     "cell_type": "markdown",
     "checksum": "56b8a7fe9ba3f9614e15ffd8ebd771a0",
     "grade": false,
     "grade_id": "cell-1aa3a155692767cb",
     "locked": true,
     "schema_version": 3,
     "solution": false,
     "task": false
    }
   },
   "source": [
    " ## Assignment 2: Hierarchical Clustering [6 Points]\n",
    " \n",
    " Consider the following matrix of distances\n",
    " \n",
    "|       |  a  |  b  |  c  |  d  |  e  |\n",
    "|-------|-----|-----|-----|-----|-----|\n",
    "| **a** |  0  |  2  |  6  |  10 |  9  |\n",
    "| **b** |  2  |  0  |  5  |  9  |  8  |\n",
    "| **c** |  6  |  5  |  0  |  4  |  5  |\n",
    "| **d** |  10 |  9  |  4  |  0  |  3  |\n",
    "| **e** |  9  |  8  |  5  |  3  |  0  |\n",
    " "
   ]
  },
  {
   "cell_type": "markdown",
   "id": "663eab29",
   "metadata": {
    "deletable": false,
    "editable": false,
    "nbgrader": {
     "cell_type": "markdown",
     "checksum": "2f0a8737ecabc7a2f28bac5cc980aee0",
     "grade": false,
     "grade_id": "cell-178fda94686d02f5",
     "locked": true,
     "schema_version": 3,
     "solution": false,
     "task": false
    }
   },
   "source": [
    "### a) Perform agglomerative clustering\n",
    "\n",
    "Do *agglomerative* average linkage clustering by hand (i.e. employing the *mean* cluster distance). Analyze how many alternatives you have to consider at each step."
   ]
  },
  {
   "cell_type": "markdown",
   "id": "6091badc",
   "metadata": {
    "deletable": false,
    "nbgrader": {
     "cell_type": "markdown",
     "checksum": "afe395ecdd2062d73e972ceea170b3ab",
     "grade": true,
     "grade_id": "cell-1b175c45344ce687",
     "locked": false,
     "points": 2,
     "schema_version": 3,
     "solution": true,
     "task": false
    }
   },
   "source": [
    "1: A(a), B(b), C(c), D(d), E(e) -- 10\n",
    "2: A(a,b), C(c), D(d), E(e) -- 6\n",
    "3: A(a,b), C(c), D(d,e) -- 3\n",
    "4: A(a,b), C(c,d,e) -- 1\n",
    "5: A(a,b,c,d,e) -- 0"
   ]
  },
  {
   "cell_type": "markdown",
   "id": "1b81f55d",
   "metadata": {
    "deletable": false,
    "editable": false,
    "nbgrader": {
     "cell_type": "markdown",
     "checksum": "f9c03bdbf7029d27cd9eb6dd920117c8",
     "grade": false,
     "grade_id": "cell-f0e512db6f3b50fc",
     "locked": true,
     "schema_version": 3,
     "solution": false,
     "task": false
    }
   },
   "source": [
    "### b) Perform divisive clustering\n",
    "\n",
    "Now try to do divisive average linkage clustering. Again, analyze how many splits are possible in the first step? Think of a strategy that allows to reduce this number and use this in your computation."
   ]
  },
  {
   "cell_type": "markdown",
   "id": "ca0edc59",
   "metadata": {
    "deletable": false,
    "nbgrader": {
     "cell_type": "markdown",
     "checksum": "d7286b998d401450f564417c936e298e",
     "grade": true,
     "grade_id": "cell-273971298318f089",
     "locked": false,
     "points": 2,
     "schema_version": 3,
     "solution": true,
     "task": false
    }
   },
   "source": []
  },
  {
   "cell_type": "markdown",
   "id": "f8805580",
   "metadata": {
    "deletable": false,
    "editable": false,
    "nbgrader": {
     "cell_type": "markdown",
     "checksum": "0d322a4ff8f3608087ed1a616e8573dd",
     "grade": false,
     "grade_id": "2",
     "locked": true,
     "schema_version": 3,
     "solution": false
    }
   },
   "source": [
    "### c) Linkage criteria\n",
    "\n",
    "In the following you find implementations for single- and complete-linkage clustering. Take a look at the code  and answer the question posted below. You may of course change parameters and try it out on different datasets (`points.txt` & `clusterData.txt` are provided).\n",
    "\n",
    "Note that for performance reasons the code differs from the lecture's pseudocode (ML-05 Slide 8), but in general it does the same."
   ]
  },
  {
   "cell_type": "code",
   "execution_count": 28,
   "id": "0af08212",
   "metadata": {
    "deletable": false,
    "editable": false,
    "nbgrader": {
     "cell_type": "code",
     "checksum": "ce49d04d93e1ee39db4228e9695bd932",
     "grade": false,
     "grade_id": "cell-bece3476fa1da0d2",
     "locked": true,
     "schema_version": 3,
     "solution": false,
     "task": false
    }
   },
   "outputs": [],
   "source": [
    "from scipy.spatial.distance import cdist\n",
    "\n",
    "def linkage(data, k=5, complete=False):\n",
    "    \"\"\"\n",
    "    Runs single or complete linkage clustering.\n",
    "    \n",
    "    Args:\n",
    "        data (ndarray): Data points to be clustered in an array with shape (num_points, 2).\n",
    "        k (int): Number of clusters.\n",
    "        complete (bool): Whether to run complete linkage clustering.\n",
    "        \n",
    "    Returns:\n",
    "        ndarray: The cluster labels for each data point. Shape is (num_points).\n",
    "    \"\"\"\n",
    "    # Initially all points are their own cluster.\n",
    "    labels = np.arange(len(data))\n",
    "\n",
    "    # Calculate distance between all points.\n",
    "    # Also removing half of the matrix because \n",
    "    # its symmetrical along the diagonal.\n",
    "    dst = np.tril(cdist(data, data))\n",
    "\n",
    "    while len(set(labels)) > k:\n",
    "        # Get the lowest distance of two points which\n",
    "        # do not have the same label.\n",
    "        r, c = np.where(dst == np.min(dst[dst > 0]))\n",
    "        \n",
    "        # Ignore the case when there are multiple with\n",
    "        # equally smallest distance.\n",
    "        r = r[0]\n",
    "        c = c[0]\n",
    "\n",
    "        # The two points are now in the same cluster,\n",
    "        # so they have a distance of 0 now.\n",
    "        dst[r, c] = 0\n",
    "\n",
    "        # Make the two clusters have the same label.\n",
    "        labels[labels == labels[r]] = labels[c]\n",
    "\n",
    "        # Check if we want to do complete linkage clustering.\n",
    "        if complete:\n",
    "            # Update the distances of the points which are not in the same cluster.\n",
    "            for i in np.nonzero(dst[r, :] > 0)[0]:\n",
    "                dst[r, i] = np.max(cdist(data[i, None], data[labels == labels[r], :]))\n",
    "\n",
    "            # The distances to c are now the same as to r, so we can just\n",
    "            # set them to zero - would be duplicates otherwise.\n",
    "            dst[:, c] = 0\n",
    "\n",
    "    return labels"
   ]
  },
  {
   "cell_type": "code",
   "execution_count": 29,
   "id": "5e2f67a3",
   "metadata": {
    "deletable": false,
    "nbgrader": {
     "cell_type": "code",
     "checksum": "f4e52005dd07578097c352860c74784e",
     "grade": true,
     "grade_id": "cell-88337d69614d2e22",
     "locked": false,
     "points": 0,
     "schema_version": 3,
     "solution": true,
     "task": false
    }
   },
   "outputs": [
    {
     "name": "stdout",
     "output_type": "stream",
     "text": [
      "Single Linkage Clustering:\n",
      "Label:   10,  Occurence:   71\n",
      "Label:   48,  Occurence:    1\n",
      "Label:   62,  Occurence:   75\n",
      "Label:  107,  Occurence:   27\n",
      "Label:  118,  Occurence:    1\n",
      "Complete Linkage Clustering:\n",
      "Label:   10,  Occurence:   42\n",
      "Label:   15,  Occurence:   40\n",
      "Label:  104,  Occurence:   29\n",
      "Label:  118,  Occurence:   37\n",
      "Label:  136,  Occurence:   27\n"
     ]
    },
    {
     "data": {
      "image/png": "[encoded data removed]",
      "text/plain": [
       "<Figure size 432x288 with 1 Axes>"
      ]
     },
     "metadata": {
      "needs_background": "light"
     },
     "output_type": "display_data"
    },
    {
     "data": {
      "image/png": "[encoded data removed]",
      "text/plain": [
       "<Figure size 432x288 with 1 Axes>"
      ]
     },
     "metadata": {
      "needs_background": "light"
     },
     "output_type": "display_data"
    },
    {
     "data": {
      "image/png": "[encoded data removed]",
      "text/plain": [
       "<Figure size 432x288 with 1 Axes>"
      ]
     },
     "metadata": {
      "needs_background": "light"
     },
     "output_type": "display_data"
    }
   ],
   "source": [
    "%matplotlib inline\n",
    "import numpy as np\n",
    "import matplotlib.pyplot as plt\n",
    "\n",
    "# Read the data.\n",
    "data = np.loadtxt('points.txt')\n",
    "\n",
    "# Show unprocessed data set.\n",
    "fig_cluster = plt.figure()\n",
    "plt.scatter(data[:, 0], data[:, 1])\n",
    "plt.title('Unprocessed Cluster Data')\n",
    "fig_cluster.canvas.draw()\n",
    "\n",
    "# Apply Single Linkage Clustering\n",
    "labels = linkage(data, k=5, complete=False)\n",
    "unique, inverse, counts = np.unique(labels, return_inverse=True, return_counts=True)\n",
    "print(\"Single Linkage Clustering:\")\n",
    "# Print the unqiue labels and their occurence\n",
    "for u, c in zip(unique, counts):\n",
    "    print(\"Label: {:4},  Occurence: {:4}\".format(u, c))    \n",
    "# Replace labels by continuous values starting from 1 for discernible colors in plot\n",
    "labels = np.arange(1,unique.size+1)[inverse]\n",
    "fig_single = plt.figure()\n",
    "plt.scatter(data[:, 0], data[:, 1], c=labels)\n",
    "plt.title('Single-linkage Clustering with k=5')\n",
    "fig_single.canvas.draw()\n",
    "\n",
    "\n",
    "# Apply Complete Linkage Clustering\n",
    "labels = linkage(data, k=5, complete=True)\n",
    "unique, inverse, counts = np.unique(labels, return_inverse=True, return_counts=True)\n",
    "print(\"Complete Linkage Clustering:\")\n",
    "for u, c in zip(unique, counts):\n",
    "    print(\"Label: {:4},  Occurence: {:4}\".format(u, c))    \n",
    "labels = np.arange(1,unique.size+1)[inverse]\n",
    "fig_complete = plt.figure()\n",
    "plt.scatter(data[:, 0], data[:, 1], c=labels)\n",
    "plt.title('Complete-linkage Clustering with k=5')\n",
    "fig_complete.canvas.draw()\n",
    "\n",
    "\n",
    "\n",
    "# Test different parameters above\n",
    "# YOUR CODE HERE"
   ]
  },
  {
   "cell_type": "markdown",
   "id": "0decc314",
   "metadata": {
    "deletable": false,
    "editable": false,
    "nbgrader": {
     "cell_type": "markdown",
     "checksum": "44235bcbef2dfbd67299026aa67784f0",
     "grade": false,
     "grade_id": "2_question",
     "locked": true,
     "schema_version": 3,
     "solution": false
    }
   },
   "source": [
    "What is the difference between single- and complete-linkage clustering and which is the better solution given the dataset?"
   ]
  },
  {
   "cell_type": "markdown",
   "id": "5ae4d9ef",
   "metadata": {
    "deletable": false,
    "nbgrader": {
     "cell_type": "markdown",
     "checksum": "42148b169d77d5c2b5a40dab20fbe0bf",
     "grade": true,
     "grade_id": "2_answer",
     "locked": false,
     "points": 2,
     "schema_version": 3,
     "solution": true
    }
   },
   "source": [
    "While the single linkage clustering is merging the two clusters who have the two closest datapoints from each other, in the complete-linkage custering those clusters are mergeged, whose longestet distance between two datapoints is the shortest compared to all otehr clusters.\n",
    "\n",
    "With the spezification of having k=5 and the dataset, we should better employ complete linking rather than single-link. This is because while most datapoints are relatively close to each other, there are a few outliers which are not close to any agglomeration of datapoints. This can lead to a single datapoint being classified into a whole cluster, should it have not other datapoint in close distance. The complete link clustering solves this problem."
   ]
  },
  {
   "cell_type": "markdown",
   "id": "0e7e9004",
   "metadata": {
    "deletable": false,
    "editable": false,
    "nbgrader": {
     "cell_type": "markdown",
     "checksum": "9ec239ba58a44dc7a2d50d7d7581d273",
     "grade": false,
     "grade_id": "3",
     "locked": true,
     "schema_version": 3,
     "solution": false
    }
   },
   "source": [
    "## Assignment 3: k-means Clustering [9 Points]\n",
    "\n",
    "### a) Implement k-means clustering. Plot the results for $k = 7$ and $k = 3$ in colorful scatter plots.\n",
    "\n",
    "How could one handle situations when one or more clusters end up containing 0 elements? Handle these situtation in your code."
   ]
  },
  {
   "cell_type": "code",
   "execution_count": null,
   "id": "cd67d057",
   "metadata": {
    "deletable": false,
    "nbgrader": {
     "cell_type": "code",
     "checksum": "3f5d38efc70cfec8d147967407aa4621",
     "grade": true,
     "grade_id": "3_code",
     "locked": false,
     "points": 8,
     "schema_version": 3,
     "solution": true
    }
   },
   "outputs": [],
   "source": [
    "def kmeans(data, k=3):\n",
    "    \"\"\"\n",
    "    Applies kmeans clustering to the data using k initial clusters.\n",
    "    data is expected to be a numpy array of size n*2, \n",
    "    n being the amount of observations in the data. This function returns\n",
    "    the centroids and the labels for the clusters data (1,1,3,5,5,5,...)\n",
    "    \"\"\"\n",
    "    # YOUR CODE HERE\n",
    "\n",
    "    return labels, centroids"
   ]
  },
  {
   "cell_type": "code",
   "execution_count": null,
   "id": "ecc2b9a6",
   "metadata": {
    "deletable": false,
    "nbgrader": {
     "cell_type": "code",
     "checksum": "22847eed4334bfe46218ea6831d66001",
     "grade": true,
     "grade_id": "cell-946ea289203b9a59",
     "locked": false,
     "points": 0,
     "schema_version": 3,
     "solution": true,
     "task": false
    }
   },
   "outputs": [],
   "source": [
    "%matplotlib inline\n",
    "\n",
    "data = np.loadtxt('clusterData.txt')\n",
    "\n",
    "\n",
    "# Test different ks here\n",
    "# YOUR CODE HERE\n",
    "for k in [3,7]:\n",
    "#for k in [7]*5:    \n",
    "    labels, centroids = kmeans(data, k)\n",
    "\n",
    "    kmeans_fig = plt.figure('k-means with k={}'.format(k))\n",
    "    plt.scatter(data[:,0], data[:,1], c=labels)\n",
    "    plt.scatter(centroids[:,0], centroids[:,1], \n",
    "                c=list(set(labels)), alpha=.1, marker='o',\n",
    "                s=np.array([len(labels[labels==label]) for label in set(labels)])*100)\n",
    "    plt.title('k = '+str(k))\n",
    "    kmeans_fig.canvas.draw()\n",
    "\n",
    "plt.show()\n",
    "    w\n",
    "    "
   ]
  },
  {
   "cell_type": "markdown",
   "id": "a7053383",
   "metadata": {
    "deletable": false,
    "editable": false,
    "nbgrader": {
     "cell_type": "markdown",
     "checksum": "2744c4a5e8e99ba867632147e8d9a5bc",
     "grade": false,
     "grade_id": "cell-fa945b11f93016c4",
     "locked": true,
     "schema_version": 3,
     "solution": false,
     "task": false
    }
   },
   "source": [
    "### b) Why might the clustering for k=7 not look optimal? "
   ]
  },
  {
   "cell_type": "markdown",
   "id": "77b8b2f5",
   "metadata": {
    "deletable": false,
    "nbgrader": {
     "cell_type": "markdown",
     "checksum": "cdd4510850bd4d93e9099c9c21de9198",
     "grade": true,
     "grade_id": "cell-16925a76b18a76fe",
     "locked": false,
     "points": 1,
     "schema_version": 3,
     "solution": true,
     "task": false
    }
   },
   "source": [
    "YOUR ANSWER HERE"
   ]
  }
 ],
 "metadata": {
  "kernelspec": {
   "display_name": "Python 3",
   "language": "python",
   "name": "python3"
  },
  "language_info": {
   "codemirror_mode": {
    "name": "ipython",
    "version": 3
   },
   "file_extension": ".py",
   "mimetype": "text/x-python",
   "name": "python",
   "nbconvert_exporter": "python",
   "pygments_lexer": "ipython3",
   "version": "3.6.13"
  }
 },
 "nbformat": 4,
 "nbformat_minor": 5
}
