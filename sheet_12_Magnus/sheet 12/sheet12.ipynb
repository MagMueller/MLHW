{
 "cells": [
  {
   "cell_type": "markdown",
   "id": "a29cfff7",
   "metadata": {
    "deletable": false,
    "editable": false,
    "nbgrader": {
     "cell_type": "markdown",
     "checksum": "ba1e176822f3f1c1f23599fb0c85ae41",
     "grade": false,
     "grade_id": "h00",
     "locked": true,
     "schema_version": 3,
     "solution": false
    },
    "slideshow": {
     "slide_type": "slide"
    }
   },
   "source": [
    "Osnabrück University - Machine Learning (Summer Term 2021) - Prof. Dr.-Ing. G. Heidemann, Ulf Krumnack"
   ]
  },
  {
   "cell_type": "markdown",
   "id": "93f4694b",
   "metadata": {
    "deletable": false,
    "editable": false,
    "nbgrader": {
     "cell_type": "markdown",
     "checksum": "17637116f0218346c06c2323a22e47ec",
     "grade": false,
     "grade_id": "h01",
     "locked": true,
     "schema_version": 3,
     "solution": false
    }
   },
   "source": [
    "# Exercise Sheet 12"
   ]
  },
  {
   "cell_type": "markdown",
   "id": "b86079fe",
   "metadata": {
    "deletable": false,
    "editable": false,
    "nbgrader": {
     "cell_type": "markdown",
     "checksum": "abf1bdb7996f1a4b7c55d10e68057542",
     "grade": false,
     "grade_id": "h02",
     "locked": true,
     "schema_version": 3,
     "solution": false
    },
    "slideshow": {
     "slide_type": "subslide"
    }
   },
   "source": [
    "## Introduction\n",
    "\n",
    "This is the last exercise sheet of this term. You do not need to hand it in - there will be no tutor meeting to discuss this sheet.  Instead we will discuss it in the practice session on **Tuesday, July 13, 2021, 2:00pm**. If you need help (and Google and other resources were not enough), feel free to use the StudIP forum, contact your groups' designated tutor or whomever of us you run into first."
   ]
  },
  {
   "cell_type": "markdown",
   "id": "a535a7ae",
   "metadata": {
    "deletable": false,
    "editable": false,
    "nbgrader": {
     "cell_type": "markdown",
     "checksum": "c989ef972a476392e000cb61e20d673f",
     "grade": false,
     "grade_id": "ex1",
     "locked": true,
     "schema_version": 3,
     "solution": false
    }
   },
   "source": [
    "## Assignment 1: Uncertainty and probability [6 Points]\n",
    "\n",
    "This exercise will focus on concepts introduced in the first part of lecture (ML-11)."
   ]
  },
  {
   "cell_type": "markdown",
   "id": "c4aeb875",
   "metadata": {
    "deletable": false,
    "editable": false,
    "nbgrader": {
     "cell_type": "markdown",
     "checksum": "bc668602c44bc302af6f47876a0da1d2",
     "grade": false,
     "grade_id": "ex1a",
     "locked": true,
     "schema_version": 3,
     "solution": false
    }
   },
   "source": [
    "### a) Modeling uncertainty\n",
    "\n",
    "In the lecture it is claimed that probabilities can summarize several factors:\n",
    "\n",
    "1. missing knowledge\n",
    "1. incapability to devise complete models of complex domains\n",
    "1. chance\n",
    "\n",
    "Think of an example for each of these points and explain how probabilities can be applied in modeling your example."
   ]
  },
  {
   "cell_type": "markdown",
   "id": "110a4fa7",
   "metadata": {
    "deletable": false,
    "nbgrader": {
     "cell_type": "markdown",
     "checksum": "72f109d9312c8ee012453726ed0c9c61",
     "grade": true,
     "grade_id": "ex1a_solution",
     "locked": false,
     "points": 1,
     "schema_version": 3,
     "solution": true
    }
   },
   "source": [
    "1. missing knowledge - em algo wether station\n",
    "\n",
    "1. incapability to devise complete models of complex domains - play chess - best move \n",
    "1. chance - poker"
   ]
  },
  {
   "cell_type": "markdown",
   "id": "e7efaedc",
   "metadata": {
    "deletable": false,
    "editable": false,
    "nbgrader": {
     "cell_type": "markdown",
     "checksum": "1548fbd1548a2eb2423953e02d256add",
     "grade": false,
     "grade_id": "ex1b",
     "locked": true,
     "schema_version": 3,
     "solution": false
    }
   },
   "source": [
    "### b) Inference by enumeration\n",
    "\n",
    "Given the full joint distribution below, calculate the following:\n",
    "\n",
    "\n",
    "|   -    |  toothache $\\wedge$ catch| toothache $\\wedge$ $\\neg$catch |  $\\neg$toothache $\\wedge$ catch | $\\neg$toothache $\\wedge$ $\\neg$catch |\n",
    "|---|---|---|---|---|\n",
    "| cavity  | 0.108 | 0.012 | 0.072 | 0.008 |\n",
    "| $\\neg$cavity | 0.016 | 0.064 | 0.144 | 0.576 |\n",
    "\n",
    "\n",
    "1. $P(\\neg \\text{toothache})$\n",
    "1. $P(\\text{cavity})$\n",
    "1. $P(\\text{toothache} \\mid \\text{cavity})$\n",
    "1. $P(\\text{cavity} \\mid \\text{toothache} \\vee \\text{catch})$\n",
    "\n",
    "If you are familiar with `pandas` you can use the dataframe below to find the solutions. You can of course also write code without using pandas or calculate the answers manually. "
   ]
  },
  {
   "cell_type": "markdown",
   "id": "46aaea86",
   "metadata": {
    "deletable": false,
    "nbgrader": {
     "cell_type": "markdown",
     "checksum": "96c23f82ac2bbe8d6e71640d3430fd6c",
     "grade": true,
     "grade_id": "ex1b_solution",
     "locked": false,
     "points": 1,
     "schema_version": 3,
     "solution": true
    }
   },
   "source": [
    "1. $P(\\neg \\text{toothache})$\n",
    "1. $P(\\text{cavity})$\n",
    "1. $P(\\text{toothache} \\mid \\text{cavity})$\n",
    "1. $P(\\text{cavity} \\mid \\text{toothache} \\vee \\text{catch})$"
   ]
  },
  {
   "cell_type": "code",
   "execution_count": 1,
   "id": "2817aade",
   "metadata": {
    "deletable": false,
    "nbgrader": {
     "cell_type": "code",
     "checksum": "55059fab9be54700c3aca677b7efecf5",
     "grade": true,
     "grade_id": "prob-compute-impl",
     "locked": false,
     "points": 0,
     "schema_version": 3,
     "solution": true,
     "task": false
    }
   },
   "outputs": [
    {
     "name": "stdout",
     "output_type": "stream",
     "text": [
      "        toothache        ¬toothache       \n",
      "            catch ¬catch      catch ¬catch\n",
      "cavity      0.108  0.012      0.072  0.008\n",
      "¬cavity     0.016  0.064      0.144  0.576\n"
     ]
    }
   ],
   "source": [
    "import pandas as pd\n",
    "columns = pd.MultiIndex.from_product((('toothache', '¬toothache'), ('catch', '¬catch'))) \n",
    "index = ('cavity', '¬cavity')\n",
    "data = [[0.108, 0.012, 0.072, 0.008],\n",
    "        [0.016, 0.064, 0.144, 0.576]]\n",
    "joint_distribution = pd.DataFrame(data, index, columns)\n",
    "print(joint_distribution)\n",
    "\n",
    "# YOUR CODE HERE"
   ]
  },
  {
   "cell_type": "code",
   "execution_count": 27,
   "id": "8c389f8d",
   "metadata": {},
   "outputs": [
    {
     "name": "stdout",
     "output_type": "stream",
     "text": [
      "¬toothache:  0.7999999999999999\n",
      "cavity:  0.2\n",
      "toothache∣cavity:  0.6\n",
      "cavity∣toothache∨catch:  0.46\n"
     ]
    }
   ],
   "source": [
    "print(\"¬toothache: \", joint_distribution[\"¬toothache\"].values.sum())\n",
    "print(\"cavity: \", joint_distribution.iloc[0].values.sum())\n",
    "print(\"toothache∣cavity: \", joint_distribution.iloc[0][\"toothache\"].values.sum() / joint_distribution.iloc[0].values.sum())\n",
    "print(\"cavity∣toothache∨catch: \", round((joint_distribution.iloc[0][\"toothache\"].values.sum() + joint_distribution.iloc[0][\"¬toothache\"][\"catch\"] ) / (joint_distribution[\"toothache\"].values.sum() + joint_distribution[\"¬toothache\"][\"catch\"].values.sum()),2))\n",
    "\n"
   ]
  },
  {
   "cell_type": "markdown",
   "id": "0a6946ee",
   "metadata": {
    "deletable": false,
    "editable": false,
    "nbgrader": {
     "cell_type": "markdown",
     "checksum": "b25b61bb60edb7da843465ca33a00173",
     "grade": false,
     "grade_id": "ex1c",
     "locked": true,
     "schema_version": 3,
     "solution": false
    }
   },
   "source": [
    "### c) Conditional probability\n",
    "\n",
    "\n",
    "For each of the following statements, either prove it is true or give a counterexample.\n",
    "1. If P (a | b, c) = P (b | a, c), then P (a | c) = P (b | c)\n",
    "1. If P (a | b, c) = P (a), then P (b | c) = P (b)\n",
    "1. If P (a | b) = P (a), then P (a | b, c) = P (a | c)"
   ]
  },
  {
   "cell_type": "markdown",
   "id": "f2f66f05",
   "metadata": {
    "deletable": false,
    "nbgrader": {
     "cell_type": "markdown",
     "checksum": "7b305930b2b6a6b420481a5f98bda610",
     "grade": true,
     "grade_id": "ex1c_solution",
     "locked": false,
     "points": 1,
     "schema_version": 3,
     "solution": true
    }
   },
   "source": [
    "Yes\n",
    "\n",
    "No\n",
    "\n",
    "Yes\n"
   ]
  },
  {
   "cell_type": "markdown",
   "id": "48560c6d",
   "metadata": {
    "deletable": false,
    "editable": false,
    "nbgrader": {
     "cell_type": "markdown",
     "checksum": "711f158a7b5412d3f8bdf93e090c717f",
     "grade": false,
     "grade_id": "ex1d",
     "locked": true,
     "schema_version": 3,
     "solution": false
    }
   },
   "source": [
    "### d) Independence and conditional independence\n",
    "\n",
    "\n",
    "It is quite often useful to consider the effect of some specific propositions in the\n",
    "context of some general background evidence that remains fixed, rather than in the complete\n",
    "absence of information. The following questions ask you to prove more general versions of\n",
    "the product rule and Bayes’ rule, with respect to some background evidence e:\n",
    "\n",
    "1. Prove the conditionalized version of the general product rule:\n",
    "$$P(X, Y \\mid e) = P(X \\mid Y, e)\\cdot P(Y \\mid e) .$$\n",
    "1. Prove the conditionalized version of Bayes’ rule:\n",
    "$$P(Y \\mid X, e) = \\frac{P(X \\mid Y, e)\\cdot P(Y \\mid e)}{P(X \\mid e)} $$"
   ]
  },
  {
   "cell_type": "markdown",
   "id": "c31d5422",
   "metadata": {
    "deletable": false,
    "nbgrader": {
     "cell_type": "markdown",
     "checksum": "2d82e8ee6329c1cd2884acc53f7c1447",
     "grade": true,
     "grade_id": "ex1d_solution",
     "locked": false,
     "points": 1,
     "schema_version": 3,
     "solution": true
    }
   },
   "source": [
    "YOUR ANSWER HERE"
   ]
  },
  {
   "cell_type": "markdown",
   "id": "f6c05187",
   "metadata": {
    "deletable": false,
    "editable": false,
    "nbgrader": {
     "cell_type": "markdown",
     "checksum": "bcbbb6cd30e796ddab280cf98ed6c95d",
     "grade": false,
     "grade_id": "ex1e",
     "locked": true,
     "schema_version": 3,
     "solution": false
    }
   },
   "source": [
    "### e) Naive Bayes models\n",
    "\n",
    "Text categorization is the task of assigning a given document to one of a fixed set of\n",
    "categories on the basis of the text it contains. Naive Bayes models are often used for this\n",
    "task. In these models, the query variable is the document category, and the “effect” variables\n",
    "are the presence or absence of each word in the language; the assumption is that words occur\n",
    "independently in documents, with frequencies determined by the document category.\n",
    "1. Explain precisely how such a model can be constructed, given as “training data” a set of documents that have been assigned to categories.\n",
    "1. Explain precisely how to categorize a new document.\n",
    "1. Is the conditional independence assumption reasonable? Discuss."
   ]
  },
  {
   "cell_type": "markdown",
   "id": "ea0b11bf",
   "metadata": {
    "deletable": false,
    "nbgrader": {
     "cell_type": "markdown",
     "checksum": "f38aa21179d3265a3cf2547518cae962",
     "grade": true,
     "grade_id": "ex1e_solution",
     "locked": false,
     "points": 2,
     "schema_version": 3,
     "solution": true
    }
   },
   "source": [
    "YOUR ANSWER HERE"
   ]
  },
  {
   "cell_type": "markdown",
   "id": "b8d81cbd",
   "metadata": {
    "deletable": false,
    "editable": false,
    "nbgrader": {
     "cell_type": "markdown",
     "checksum": "6a1d52b93c81da19b269e13a188b5371",
     "grade": false,
     "grade_id": "ex2",
     "locked": true,
     "schema_version": 3,
     "solution": false
    }
   },
   "source": [
    "## Assignment 2: Bayes networks [4 Points]"
   ]
  },
  {
   "cell_type": "markdown",
   "id": "1dcb8272",
   "metadata": {
    "deletable": false,
    "editable": false,
    "nbgrader": {
     "cell_type": "markdown",
     "checksum": "227c0a791edd9f2b11e01a29959f43e4",
     "grade": false,
     "grade_id": "ex2a",
     "locked": true,
     "schema_version": 3,
     "solution": false
    }
   },
   "source": [
    "### a) Bayes networks\n",
    "\n",
    "Explain in your own words the idea of a Bayes network. How is conditional independence represented in such a network? How can the full joint distribution be regained from such a network?"
   ]
  },
  {
   "cell_type": "markdown",
   "id": "4905e1af",
   "metadata": {
    "deletable": false,
    "nbgrader": {
     "cell_type": "markdown",
     "checksum": "317483e3c43ea21a9d0b27e8cd2f19db",
     "grade": true,
     "grade_id": "ex2a_solution",
     "locked": false,
     "points": 2,
     "schema_version": 3,
     "solution": true
    }
   },
   "source": [
    "YOUR ANSWER HERE"
   ]
  },
  {
   "cell_type": "markdown",
   "id": "28f2e100",
   "metadata": {
    "deletable": false,
    "editable": false,
    "nbgrader": {
     "cell_type": "markdown",
     "checksum": "b56648be1657a979cd035a4522ac1047",
     "grade": false,
     "grade_id": "ex2b",
     "locked": true,
     "schema_version": 3,
     "solution": false
    }
   },
   "source": [
    "### b) Independence in Bayes networks\n",
    "\n",
    "Consider the Bayes network in (ML-11 slide 32):\n",
    "1. If no evidence is observed, are Burglary and Earthquake independent? Prove this from the numerical semantics and from the topological semantics.\n",
    "1. If we observe Alarm = true, are Burglary and Earthquake independent? Justify your answer by calculating whether the probabilities involved satisfy the definition of conditional independence."
   ]
  },
  {
   "cell_type": "markdown",
   "id": "1ef2c704",
   "metadata": {
    "deletable": false,
    "nbgrader": {
     "cell_type": "markdown",
     "checksum": "dbdbd8962f13ea2595b59c825f1c9a3b",
     "grade": true,
     "grade_id": "ex2b_solution",
     "locked": false,
     "points": 2,
     "schema_version": 3,
     "solution": true
    }
   },
   "source": [
    "YOUR ANSWER HERE"
   ]
  },
  {
   "cell_type": "markdown",
   "id": "189a0c92",
   "metadata": {
    "deletable": false,
    "editable": false,
    "nbgrader": {
     "cell_type": "markdown",
     "checksum": "0b5b89fbaa3fca39dd0be4bebb6c66fd",
     "grade": false,
     "grade_id": "recap2",
     "locked": true,
     "schema_version": 3,
     "solution": false
    },
    "slideshow": {
     "slide_type": "subslide"
    }
   },
   "source": [
    "# Recap (part II)\n",
    "\n",
    "This is the second part of the recap material. These exercises do not need to be solved in order to qualify for the final exam but it is highly recommended for preparation. Also if you hit any question that should be discussed in more detail, please let us know."
   ]
  },
  {
   "cell_type": "markdown",
   "id": "484ce69c",
   "metadata": {
    "deletable": false,
    "editable": false,
    "nbgrader": {
     "cell_type": "markdown",
     "checksum": "6cf2bdd2aaeae941450b202c16466b40",
     "grade": false,
     "grade_id": "r06",
     "locked": true,
     "schema_version": 3,
     "solution": false
    },
    "slideshow": {
     "slide_type": "slide"
    }
   },
   "source": [
    "## Recap 6: Neural Networks [2 Points]"
   ]
  },
  {
   "cell_type": "markdown",
   "id": "7c3a152a",
   "metadata": {
    "deletable": false,
    "editable": false,
    "nbgrader": {
     "cell_type": "markdown",
     "checksum": "3de6953a83ac01bf99e492bca3f62693",
     "grade": false,
     "grade_id": "r06a",
     "locked": true,
     "schema_version": 3,
     "solution": false
    },
    "slideshow": {
     "slide_type": "subslide"
    }
   },
   "source": [
    "### a) Neural Networks\n",
    "\n",
    "Name three different kinds of Artificial Neural Networks discussed in the lecture."
   ]
  },
  {
   "cell_type": "markdown",
   "id": "737238d2",
   "metadata": {
    "deletable": false,
    "nbgrader": {
     "cell_type": "markdown",
     "checksum": "2431e920e06b6e2975f02f70b736cbe1",
     "grade": true,
     "grade_id": "r06a_solution",
     "locked": false,
     "points": 0.5,
     "schema_version": 3,
     "solution": true
    },
    "slideshow": {
     "slide_type": "fragment"
    }
   },
   "source": [
    "ANN RBFN SOM RNN"
   ]
  },
  {
   "cell_type": "markdown",
   "id": "52730bbb",
   "metadata": {
    "deletable": false,
    "editable": false,
    "nbgrader": {
     "cell_type": "markdown",
     "checksum": "9a66ab87c34b88f7d75630775c1acb98",
     "grade": false,
     "grade_id": "r06b",
     "locked": true,
     "schema_version": 3,
     "solution": false
    },
    "slideshow": {
     "slide_type": "subslide"
    }
   },
   "source": [
    "### b) Backpropagation\n",
    "\n",
    "Which of the following formulae describes the backpropagation of the error through hidden layers in a Multilayer Perceptron?\n",
    "Assume they are calculated for each $k=L_H \\dots 1$ and $i=1\\dots N(k)$.\n",
    "\n",
    "1. $\\delta_i(k) = f^\\prime(o_i(k)) \\sum\\limits_{j=1}^{N(k+1)} w_{ji}(k+1, k)o_j(k)$\n",
    "2. $\\delta_i(k) = f^\\prime(o_i(k)) \\sum\\limits_{j=1}^{N(k+1)} w_{ji}(k+1, k)\\delta_j(k+1)$\n",
    "3. $\\delta_i(k) = f^\\prime(o_i(k)) \\sum\\limits_{j=1}^{N(k+1)} w_{ji}(k, k-1)\\delta_j(k+1)$"
   ]
  },
  {
   "cell_type": "markdown",
   "id": "a110d427",
   "metadata": {
    "deletable": false,
    "nbgrader": {
     "cell_type": "markdown",
     "checksum": "16efb9c9bc8a9da51eb891cebcc310e7",
     "grade": true,
     "grade_id": "r06b_solution",
     "locked": false,
     "points": 0.5,
     "schema_version": 3,
     "solution": true
    },
    "slideshow": {
     "slide_type": "fragment"
    }
   },
   "source": [
    "2"
   ]
  },
  {
   "cell_type": "markdown",
   "id": "cbe4444f",
   "metadata": {
    "deletable": false,
    "editable": false,
    "nbgrader": {
     "cell_type": "markdown",
     "checksum": "8b2383196240f8015fce8111c44618c7",
     "grade": false,
     "grade_id": "r06c",
     "locked": true,
     "schema_version": 3,
     "solution": false
    },
    "slideshow": {
     "slide_type": "subslide"
    }
   },
   "source": [
    "### c) Hebb's rule\n",
    "Explain Hebb's rule. Provide a formula. What is the relation to Oja's rule?"
   ]
  },
  {
   "cell_type": "markdown",
   "id": "388f29a9",
   "metadata": {
    "deletable": false,
    "nbgrader": {
     "cell_type": "markdown",
     "checksum": "664e40dd0aed7acfe1360fc06d9464d9",
     "grade": true,
     "grade_id": "r06c_solution",
     "locked": false,
     "points": 1,
     "schema_version": 3,
     "solution": true
    },
    "slideshow": {
     "slide_type": "fragment"
    }
   },
   "source": [
    "$ \\epsilon * y(\\vec{x}*\\vec{w})*x_i$\n",
    "\n",
    "weights can get arbitrary large, ojas rule use weight decay to prevent that\n"
   ]
  },
  {
   "cell_type": "markdown",
   "id": "fa4b04d1",
   "metadata": {
    "deletable": false,
    "editable": false,
    "nbgrader": {
     "cell_type": "markdown",
     "checksum": "af1564b6767d050589c7ff767121c17a",
     "grade": false,
     "grade_id": "r07",
     "locked": true,
     "schema_version": 3,
     "solution": false
    },
    "slideshow": {
     "slide_type": "slide"
    }
   },
   "source": [
    "## Recap 7: Local Methods [2 Points]"
   ]
  },
  {
   "cell_type": "markdown",
   "id": "c7f06e23",
   "metadata": {
    "deletable": false,
    "editable": false,
    "nbgrader": {
     "cell_type": "markdown",
     "checksum": "6f90b47c72735d7628fb7ec7cf3bc623",
     "grade": false,
     "grade_id": "r07a",
     "locked": true,
     "schema_version": 3,
     "solution": false
    },
    "slideshow": {
     "slide_type": "subslide"
    }
   },
   "source": [
    "### a) Local methods\n",
    "\n",
    "What are differences between local and global methods? What are advantages or disadvantages?"
   ]
  },
  {
   "cell_type": "markdown",
   "id": "b6a2049c",
   "metadata": {
    "deletable": false,
    "nbgrader": {
     "cell_type": "markdown",
     "checksum": "7b04430591b527b08dcf411dc922e1d7",
     "grade": true,
     "grade_id": "r07a_solution",
     "locked": false,
     "points": 0.5,
     "schema_version": 3,
     "solution": true
    },
    "slideshow": {
     "slide_type": "fragment"
    }
   },
   "source": [
    "local: new example have just local influence on the model\n",
    "global: new example have  influence on the complete model\n",
    "\n",
    "local: robust against noise, but just small changes, far more robust\n",
    "global: learn more, but problem, if for instance we would remove a node"
   ]
  },
  {
   "cell_type": "markdown",
   "id": "4a559b81",
   "metadata": {
    "deletable": false,
    "editable": false,
    "nbgrader": {
     "cell_type": "markdown",
     "checksum": "69286c3f3433fc504bba0b3a6789b322",
     "grade": false,
     "grade_id": "r07b",
     "locked": true,
     "schema_version": 3,
     "solution": false
    },
    "slideshow": {
     "slide_type": "subslide"
    }
   },
   "source": [
    "### b) MLP and RBFN\n",
    "\n",
    "Is an MLP or are RBFN local methods? Why?"
   ]
  },
  {
   "cell_type": "markdown",
   "id": "d7a3a33a",
   "metadata": {
    "deletable": false,
    "nbgrader": {
     "cell_type": "markdown",
     "checksum": "caacbd38edeb60e5cb2fd5fa56098c01",
     "grade": true,
     "grade_id": "r07b_solution",
     "locked": false,
     "points": 0.5,
     "schema_version": 3,
     "solution": true
    },
    "slideshow": {
     "slide_type": "fragment"
    }
   },
   "source": [
    "RBFN, because, in backproporgation in MLP all nodes get changed, but in RBFN winner takes the most\n",
    "\n",
    "= ε (t – y ) Ki(||x – ξi||).\n",
    "\n"
   ]
  },
  {
   "cell_type": "markdown",
   "id": "9da45a62",
   "metadata": {
    "deletable": false,
    "editable": false,
    "nbgrader": {
     "cell_type": "markdown",
     "checksum": "1415431834f79d0e1243bbafb7570b16",
     "grade": false,
     "grade_id": "r07c",
     "locked": true,
     "schema_version": 3,
     "solution": false
    },
    "slideshow": {
     "slide_type": "subslide"
    }
   },
   "source": [
    "### c)  Nearest neighbor\n",
    "\n",
    "How does the nearest neighbor approach work? How can it be improved?"
   ]
  },
  {
   "cell_type": "markdown",
   "id": "d55530d0",
   "metadata": {
    "deletable": false,
    "nbgrader": {
     "cell_type": "markdown",
     "checksum": "6f85205012c26449e35a517cdf9f9918",
     "grade": true,
     "grade_id": "r07c_solution",
     "locked": false,
     "points": 1,
     "schema_version": 3,
     "solution": true
    },
    "slideshow": {
     "slide_type": "fragment"
    }
   },
   "source": [
    "for "
   ]
  },
  {
   "cell_type": "markdown",
   "id": "400bd584",
   "metadata": {},
   "source": [
    " classification look at the nearest neighbour, assign this class to new example. can be approved by looking at more than one neighbour or weight them according to their inverse distance."
   ]
  },
  {
   "cell_type": "markdown",
   "id": "d8138b08",
   "metadata": {
    "deletable": false,
    "editable": false,
    "nbgrader": {
     "cell_type": "markdown",
     "checksum": "9fa96aacb39ac35cf406e6ccc018d70e",
     "grade": false,
     "grade_id": "r08",
     "locked": true,
     "schema_version": 3,
     "solution": false
    },
    "slideshow": {
     "slide_type": "slide"
    }
   },
   "source": [
    "## Recap 8: Classification [2 Points]"
   ]
  },
  {
   "cell_type": "markdown",
   "id": "83c8d366",
   "metadata": {
    "deletable": false,
    "editable": false,
    "nbgrader": {
     "cell_type": "markdown",
     "checksum": "2abe8e72e4c19c2e40830204a9d8a688",
     "grade": false,
     "grade_id": "r08a",
     "locked": true,
     "schema_version": 3,
     "solution": false
    },
    "slideshow": {
     "slide_type": "subslide"
    }
   },
   "source": [
    "### a) Classfier\n",
    "\n",
    "What is a classifier? What is the relation to a concept?"
   ]
  },
  {
   "cell_type": "markdown",
   "id": "3f441a88",
   "metadata": {
    "deletable": false,
    "nbgrader": {
     "cell_type": "markdown",
     "checksum": "50c9a68e3b8b1306c2181af7ab6d8fec",
     "grade": true,
     "grade_id": "r08a_solution",
     "locked": false,
     "points": 0.5,
     "schema_version": 3,
     "solution": true
    },
    "slideshow": {
     "slide_type": "fragment"
    }
   },
   "source": [
    "a model that assigns a class label to an example\n",
    "In  contact you try to find an appetiser that fits your training examples best, so it's like many concepts\n"
   ]
  },
  {
   "cell_type": "markdown",
   "id": "31d4a1cb",
   "metadata": {
    "deletable": false,
    "editable": false,
    "nbgrader": {
     "cell_type": "markdown",
     "checksum": "c5b630f3827ca3bf0d814cb58281196e",
     "grade": false,
     "grade_id": "r08b",
     "locked": true,
     "schema_version": 3,
     "solution": false
    },
    "slideshow": {
     "slide_type": "subslide"
    }
   },
   "source": [
    "### b) Comparison of classifiers\n",
    "\n",
    "Name three different classifiers and compare them. Think about biases and assumptions, separatrices, sensitivity, locality, parameters and speed. "
   ]
  },
  {
   "cell_type": "markdown",
   "id": "f6e42541",
   "metadata": {
    "deletable": false,
    "nbgrader": {
     "cell_type": "markdown",
     "checksum": "c755dd1b956540416bb8f3c924768b90",
     "grade": true,
     "grade_id": "r08b_solution",
     "locked": false,
     "points": 0.5,
     "schema_version": 3,
     "solution": true
    },
    "slideshow": {
     "slide_type": "fragment"
    }
   },
   "source": [
    "Decision Tree - Shorter trees are preferred over longer trees. Trees that place high information gain attributes close to the root are preferred over those that do not, gloabal, only parameter is maybe maximum  depth.\n",
    "\n",
    "Perceptron - many paramenters like learning rate ( + decay) or for backpropagation tempratrue, how many nodes. Its global, slow training, but then better than knn because, does not have to go through all data again and again.\n",
    "K-Nearest Neighbor - nearest distance is important for same class,  no robust against noise, is local, selcet k, fast traing, depends on the amount of your data could be really long to go thro hole data base."
   ]
  },
  {
   "cell_type": "markdown",
   "id": "bf317046",
   "metadata": {
    "deletable": false,
    "editable": false,
    "nbgrader": {
     "cell_type": "markdown",
     "checksum": "aa0cbd27cac42fa8e37044709288123f",
     "grade": false,
     "grade_id": "ex08c",
     "locked": true,
     "schema_version": 3,
     "solution": false
    },
    "slideshow": {
     "slide_type": "subslide"
    }
   },
   "source": [
    "### c) SVM\n",
    "\n",
    "What is a support vector? How does the kernel trick work?"
   ]
  },
  {
   "cell_type": "markdown",
   "id": "9ae9bfc9",
   "metadata": {
    "deletable": false,
    "nbgrader": {
     "cell_type": "markdown",
     "checksum": "9f675e71da82dca8138ab125d6ac4309",
     "grade": true,
     "grade_id": "r08c_solution",
     "locked": false,
     "points": 1,
     "schema_version": 3,
     "solution": true
    },
    "slideshow": {
     "slide_type": "fragment"
    }
   },
   "source": [
    "What is a support vector? Help to build SVM and hyperplane, nearest points to margin, make vectors for each class - hyperplane is in the middle\n",
    "\n",
    "kernel trick : transpose to high-dimension feature space in order to train linear separatrices for non lineare data. then transpose back.\n",
    "\n"
   ]
  },
  {
   "cell_type": "markdown",
   "id": "5308cea4",
   "metadata": {
    "deletable": false,
    "editable": false,
    "nbgrader": {
     "cell_type": "markdown",
     "checksum": "7cf62c7d4f666e95481d5e3aa809c039",
     "grade": false,
     "grade_id": "r09",
     "locked": true,
     "schema_version": 3,
     "solution": false
    },
    "slideshow": {
     "slide_type": "slide"
    }
   },
   "source": [
    "## Recap 9: Reinforcement Learning [2 Points]"
   ]
  },
  {
   "cell_type": "markdown",
   "id": "4cd750bb",
   "metadata": {
    "deletable": false,
    "editable": false,
    "nbgrader": {
     "cell_type": "markdown",
     "checksum": "647b504595f55e43ea201d99e66c9663",
     "grade": false,
     "grade_id": "r09a",
     "locked": true,
     "schema_version": 3,
     "solution": false
    },
    "slideshow": {
     "slide_type": "subslide"
    }
   },
   "source": [
    "### a)\n",
    "\n",
    "What is an agent in terms of reinforcement learning? Name an example of an agent."
   ]
  },
  {
   "cell_type": "markdown",
   "id": "dcddc10b",
   "metadata": {
    "deletable": false,
    "nbgrader": {
     "cell_type": "markdown",
     "checksum": "d48809f1c135c4e99f4e599fd2119511",
     "grade": true,
     "grade_id": "ex09a_solution",
     "locked": false,
     "points": 0.5,
     "schema_version": 3,
     "solution": true
    },
    "slideshow": {
     "slide_type": "fragment"
    }
   },
   "source": [
    "Roboter that tries to escape a maze. Is in a state, makes action, ovserve reward. state action reward.state action reward. state action reward. ... "
   ]
  },
  {
   "cell_type": "markdown",
   "id": "318ff597",
   "metadata": {
    "deletable": false,
    "editable": false,
    "nbgrader": {
     "cell_type": "markdown",
     "checksum": "213c164ae670eed99688fda7a3b91005",
     "grade": false,
     "grade_id": "r09b",
     "locked": true,
     "schema_version": 3,
     "solution": false
    },
    "slideshow": {
     "slide_type": "subslide"
    }
   },
   "source": [
    "### b)\n",
    "\n",
    "What is the Markov assumption? How is it related to Q-learning? Give an example for which it does not hold."
   ]
  },
  {
   "cell_type": "markdown",
   "id": "cfceaf0c",
   "metadata": {
    "deletable": false,
    "nbgrader": {
     "cell_type": "markdown",
     "checksum": "e6411198d475b4cfe3fc65f05aa08116",
     "grade": true,
     "grade_id": "r09b_solution",
     "locked": false,
     "points": 0.5,
     "schema_version": 3,
     "solution": true
    },
    "slideshow": {
     "slide_type": "fragment"
    }
   },
   "source": [
    "Next action/state just depends on previous. Can use to learn optimal policy in Q-learning. Problem if next state is influence by previous actions. So if we have to no previous words. \n",
    "E.G. Predict next word in a sentence, maybe dont just depend on previous word, but also on context of the text.\n",
    "\n",
    "\n",
    "stocks dont work\n"
   ]
  },
  {
   "cell_type": "markdown",
   "id": "7eca7ae8",
   "metadata": {
    "deletable": false,
    "editable": false,
    "nbgrader": {
     "cell_type": "markdown",
     "checksum": "26436207ba7ec4a4ff50cf5278be35ea",
     "grade": false,
     "grade_id": "r09c",
     "locked": true,
     "schema_version": 3,
     "solution": false
    },
    "slideshow": {
     "slide_type": "subslide"
    }
   },
   "source": [
    "### c) \n",
    "What does the $Q$-function express in reinforcement learning and how is it used?"
   ]
  },
  {
   "cell_type": "markdown",
   "id": "d53ad3ba",
   "metadata": {
    "deletable": false,
    "nbgrader": {
     "cell_type": "markdown",
     "checksum": "d6f0986ee04fe074aa3f70849e8a1456",
     "grade": true,
     "grade_id": "r09c_solution",
     "locked": false,
     "points": 1,
     "schema_version": 3,
     "solution": true
    },
    "slideshow": {
     "slide_type": "fragment"
    }
   },
   "source": [
    "expected reward in a particulare state, value of an action.\n",
    "Calculate expected reward if i take this or that action - discount future rewards with gamma.\n"
   ]
  },
  {
   "cell_type": "markdown",
   "id": "65846a40",
   "metadata": {
    "deletable": false,
    "editable": false,
    "nbgrader": {
     "cell_type": "markdown",
     "checksum": "b9f933d21a33cae24d41f679c7803209",
     "grade": false,
     "grade_id": "r10",
     "locked": true,
     "schema_version": 3,
     "solution": false
    },
    "slideshow": {
     "slide_type": "slide"
    }
   },
   "source": [
    "## Recap 10: Modeling Uncertainty [2 Points]"
   ]
  },
  {
   "cell_type": "markdown",
   "id": "351aeb16",
   "metadata": {
    "deletable": false,
    "editable": false,
    "nbgrader": {
     "cell_type": "markdown",
     "checksum": "433d9e2c8d4a489f66e3c1a27a81b22f",
     "grade": false,
     "grade_id": "r10a",
     "locked": true,
     "schema_version": 3,
     "solution": false
    },
    "slideshow": {
     "slide_type": "subslide"
    }
   },
   "source": [
    "### a) Uncertainty\n",
    "\n",
    "Why do we need to model uncertainties?"
   ]
  },
  {
   "cell_type": "markdown",
   "id": "4af224c2",
   "metadata": {
    "deletable": false,
    "nbgrader": {
     "cell_type": "markdown",
     "checksum": "372f9f0bb419c6ee099547d4f8b43953",
     "grade": true,
     "grade_id": "r10a_solution",
     "locked": false,
     "points": 0.5,
     "schema_version": 3,
     "solution": true
    },
    "slideshow": {
     "slide_type": "fragment"
    }
   },
   "source": [
    "\n",
    "Because our world is full of uncertainites.\n"
   ]
  },
  {
   "cell_type": "markdown",
   "id": "de60f845",
   "metadata": {},
   "source": [
    " Environment is only partially observable.\n",
    " Sensors are unreliable.\n",
    " The results of actions are uncertain.\n",
    " High complexity.\n",
    "Missing knowledge"
   ]
  },
  {
   "cell_type": "markdown",
   "id": "55d57294",
   "metadata": {
    "deletable": false,
    "editable": false,
    "nbgrader": {
     "cell_type": "markdown",
     "checksum": "1cdae0162a25e6912b619666e4e9c2d2",
     "grade": false,
     "grade_id": "ex10b",
     "locked": true,
     "schema_version": 3,
     "solution": false
    },
    "slideshow": {
     "slide_type": "subslide"
    }
   },
   "source": [
    "### b) Naive Bayes\n",
    "\n",
    "What is a naive Bayes classifier? Why is it naive? "
   ]
  },
  {
   "cell_type": "markdown",
   "id": "62a140ff",
   "metadata": {
    "deletable": false,
    "nbgrader": {
     "cell_type": "markdown",
     "checksum": "dc992a2576b38233208e9a8b6351c1ac",
     "grade": true,
     "grade_id": "r10b_solution",
     "locked": false,
     "points": 0.5,
     "schema_version": 3,
     "solution": true
    },
    "slideshow": {
     "slide_type": "fragment"
    }
   },
   "source": [
    "assumes conditionally independent varibales"
   ]
  },
  {
   "cell_type": "markdown",
   "id": "ecfd1f1b",
   "metadata": {
    "deletable": false,
    "editable": false,
    "nbgrader": {
     "cell_type": "markdown",
     "checksum": "94641b398e85e11fb9e8c44bbd7373b2",
     "grade": false,
     "grade_id": "r10c",
     "locked": true,
     "schema_version": 3,
     "solution": false
    },
    "slideshow": {
     "slide_type": "subslide"
    }
   },
   "source": [
    "### c) Probabilities\n",
    "\n",
    "Given the following table, calculate the probability of drawing a blue candy blindly (assume the bags are chosen equally likely). Then calculate the probability that our drawn blue candy was drawn from the red bag.\n",
    "\n",
    "|                | blue candies | green candies |\n",
    "|----------------|--------------|---------------|\n",
    "| **red bag**    |            5 |            10 |\n",
    "| **yellow bag** |           20 |            10 |"
   ]
  },
  {
   "cell_type": "code",
   "execution_count": 28,
   "id": "8328f21c",
   "metadata": {
    "deletable": false,
    "nbgrader": {
     "cell_type": "markdown",
     "checksum": "a3f1a21a2a207eaf763203562914c18c",
     "grade": true,
     "grade_id": "ex10c_solution",
     "locked": false,
     "points": 1,
     "schema_version": 3,
     "solution": true
    },
    "slideshow": {
     "slide_type": "fragment"
    }
   },
   "outputs": [
    {
     "data": {
      "text/plain": [
       "0.5"
      ]
     },
     "execution_count": 28,
     "metadata": {},
     "output_type": "execute_result"
    }
   ],
   "source": [
    "0.5 * ( 5/15 + 20/30)"
   ]
  },
  {
   "cell_type": "code",
   "execution_count": 29,
   "id": "a2a6f8c3",
   "metadata": {},
   "outputs": [
    {
     "data": {
      "text/plain": [
       "0.2"
      ]
     },
     "execution_count": 29,
     "metadata": {},
     "output_type": "execute_result"
    }
   ],
   "source": [
    "#P(r|blue): (r und blue ) / blue \n",
    "5/25"
   ]
  },
  {
   "cell_type": "code",
   "execution_count": null,
   "id": "889fdd45",
   "metadata": {},
   "outputs": [],
   "source": []
  }
 ],
 "metadata": {
  "kernelspec": {
   "display_name": "Python 3",
   "language": "python",
   "name": "python3"
  },
  "language_info": {
   "codemirror_mode": {
    "name": "ipython",
    "version": 3
   },
   "file_extension": ".py",
   "mimetype": "text/x-python",
   "name": "python",
   "nbconvert_exporter": "python",
   "pygments_lexer": "ipython3",
   "version": "3.6.10"
  },
  "toc": {
   "base_numbering": 1,
   "nav_menu": {},
   "number_sections": true,
   "sideBar": true,
   "skip_h1_title": false,
   "title_cell": "Table of Contents",
   "title_sidebar": "Contents",
   "toc_cell": false,
   "toc_position": {},
   "toc_section_display": true,
   "toc_window_display": false
  }
 },
 "nbformat": 4,
 "nbformat_minor": 5
}
